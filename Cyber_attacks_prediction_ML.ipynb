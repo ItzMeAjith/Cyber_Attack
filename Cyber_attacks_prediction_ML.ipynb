{
  "nbformat": 4,
  "nbformat_minor": 0,
  "metadata": {
    "colab": {
      "name": "CRWK_TE_good.ipynb",
      "provenance": [],
      "collapsed_sections": []
    },
    "kernelspec": {
      "name": "python3",
      "display_name": "Python 3"
    },
    "language_info": {
      "name": "python"
    }
  },
  "cells": [
    {
      "cell_type": "markdown",
      "metadata": {
        "id": "FiMkPjBL3RVU"
      },
      "source": [
        "**CN7030 ML on Big Data: Coursework**"
      ]
    },
    {
      "cell_type": "markdown",
      "metadata": {
        "id": "NGynhNZ73wRP"
      },
      "source": [
        "Spark install and environment setup (Java, spark environment variable path setup)"
      ]
    },
    {
      "cell_type": "code",
      "metadata": {
        "id": "l0RtUNMxvv_F"
      },
      "source": [
        "!apt update\n",
        "!apt-get install openjdk-8-jdk-headless -qq > /dev/null\n",
        "!wget -q http://www-eu.apache.org/dist/spark/spark-3.0.2/spark-3.0.2-bin-hadoop2.7.tgz\n",
        "# unxip the downloaded folder \n",
        "!tar xf spark-3.0.2-bin-hadoop2.7.tgz\n",
        "!pip install -q findspark\n",
        "import os\n",
        "os.environ[\"JAVA_HOME\"] = \"/usr/lib/jvm/java-8-openjdk-amd64\"\n",
        "os.environ[\"SPARK_HOME\"] = \"/content/spark-3.0.2-bin-hadoop2.7\"\n",
        "# starts the spark only three steps\n",
        "import findspark\n",
        "findspark.init()\n",
        "from pyspark.sql import SparkSession\n",
        "spark = SparkSession.builder.master(\"local[*]\").getOrCreate()"
      ],
      "execution_count": null,
      "outputs": []
    },
    {
      "cell_type": "markdown",
      "metadata": {
        "id": "FgnBlcfS4UP1"
      },
      "source": [
        "loading the Dataset to the dataframe and providing the header names. UNSW-NB15.csv file loaded to the google drive and mounted. and printing the Schema of the dataset.\n"
      ]
    },
    {
      "cell_type": "code",
      "metadata": {
        "id": "-a1y5iKXv0hz"
      },
      "source": [
        "data=spark.read.csv('/content/drive/MyDrive/CRWK_UEL/UNSW-NB15.csv',inferSchema=True, header=True)\n",
        "\n",
        "dfTE = data.toDF(\"srcip\",\"sport\",\"dstip\",\"dsport\",\"proto\",\"state\",\"dur\",\"sbytes\",\"dbytes\",\"sttl\",\"dttl\",\"sloss\",\"dloss\",\"service\",\"Sload\",\"Dload\",\"Spkts\",\"Dpkts\",\"swin\",\"dwin\",\"stcpb\",\"dtcpb\",\"smeansz\",\"dmeansz\",\"trans_depth\",\"res_bdy_len\",\"Sjit\",\"Djit\",\"Stime\",\"Ltime\",\"Sintpkt\",\"Dintpkt\",\"tcprtt\",\"synack\",\"ackdat\",\"is_sm_ips_ports\",\"ct_state_ttl\",\"ct_flw_http_mthd\",\"is_ftp_login\",\"ct_ftp_cmd\",\"ct_srv_src\",\"ct_srv_dst\",\"ct_dst_ltm\",\"ct_src_ ltm\",\"ct_src_dport_ltm\",\"ct_dst_sport_ltm\",\"ct_dst_src_ltm\",\"attack_cat\",\"Label\")\n",
        "\n",
        "dfTE.printSchema()"
      ],
      "execution_count": null,
      "outputs": []
    },
    {
      "cell_type": "markdown",
      "metadata": {
        "id": "qorYEsQ754OA"
      },
      "source": [
        "Displaysome sample records"
      ]
    },
    {
      "cell_type": "code",
      "metadata": {
        "colab": {
          "base_uri": "https://localhost:8080/",
          "height": 1000
        },
        "id": "-kgCGt3Z5RxE",
        "outputId": "78430223-0dd9-4782-adb4-d0686db8ddd5"
      },
      "source": [
        "import pandas as pd\n",
        "pd.DataFrame(dfTE.take(4), columns=dfTE.columns).transpose()"
      ],
      "execution_count": null,
      "outputs": [
        {
          "output_type": "execute_result",
          "data": {
            "text/html": [
              "<div>\n",
              "<style scoped>\n",
              "    .dataframe tbody tr th:only-of-type {\n",
              "        vertical-align: middle;\n",
              "    }\n",
              "\n",
              "    .dataframe tbody tr th {\n",
              "        vertical-align: top;\n",
              "    }\n",
              "\n",
              "    .dataframe thead th {\n",
              "        text-align: right;\n",
              "    }\n",
              "</style>\n",
              "<table border=\"1\" class=\"dataframe\">\n",
              "  <thead>\n",
              "    <tr style=\"text-align: right;\">\n",
              "      <th></th>\n",
              "      <th>0</th>\n",
              "      <th>1</th>\n",
              "      <th>2</th>\n",
              "      <th>3</th>\n",
              "    </tr>\n",
              "  </thead>\n",
              "  <tbody>\n",
              "    <tr>\n",
              "      <th>srcip</th>\n",
              "      <td>59.166.0.0</td>\n",
              "      <td>59.166.0.5</td>\n",
              "      <td>59.166.0.9</td>\n",
              "      <td>59.166.0.8</td>\n",
              "    </tr>\n",
              "    <tr>\n",
              "      <th>sport</th>\n",
              "      <td>43467</td>\n",
              "      <td>41289</td>\n",
              "      <td>43785</td>\n",
              "      <td>40691</td>\n",
              "    </tr>\n",
              "    <tr>\n",
              "      <th>dstip</th>\n",
              "      <td>149.171.126.6</td>\n",
              "      <td>149.171.126.2</td>\n",
              "      <td>149.171.126.0</td>\n",
              "      <td>149.171.126.9</td>\n",
              "    </tr>\n",
              "    <tr>\n",
              "      <th>dsport</th>\n",
              "      <td>49729</td>\n",
              "      <td>9574</td>\n",
              "      <td>6881</td>\n",
              "      <td>6881</td>\n",
              "    </tr>\n",
              "    <tr>\n",
              "      <th>proto</th>\n",
              "      <td>tcp</td>\n",
              "      <td>tcp</td>\n",
              "      <td>tcp</td>\n",
              "      <td>tcp</td>\n",
              "    </tr>\n",
              "    <tr>\n",
              "      <th>state</th>\n",
              "      <td>FIN</td>\n",
              "      <td>FIN</td>\n",
              "      <td>FIN</td>\n",
              "      <td>FIN</td>\n",
              "    </tr>\n",
              "    <tr>\n",
              "      <th>dur</th>\n",
              "      <td>0.101815</td>\n",
              "      <td>0.044003</td>\n",
              "      <td>2.79083</td>\n",
              "      <td>2.6335</td>\n",
              "    </tr>\n",
              "    <tr>\n",
              "      <th>sbytes</th>\n",
              "      <td>4238</td>\n",
              "      <td>2750</td>\n",
              "      <td>10476</td>\n",
              "      <td>13350</td>\n",
              "    </tr>\n",
              "    <tr>\n",
              "      <th>dbytes</th>\n",
              "      <td>65628</td>\n",
              "      <td>29104</td>\n",
              "      <td>395734</td>\n",
              "      <td>548216</td>\n",
              "    </tr>\n",
              "    <tr>\n",
              "      <th>sttl</th>\n",
              "      <td>31</td>\n",
              "      <td>31</td>\n",
              "      <td>31</td>\n",
              "      <td>31</td>\n",
              "    </tr>\n",
              "    <tr>\n",
              "      <th>dttl</th>\n",
              "      <td>29</td>\n",
              "      <td>29</td>\n",
              "      <td>29</td>\n",
              "      <td>29</td>\n",
              "    </tr>\n",
              "    <tr>\n",
              "      <th>sloss</th>\n",
              "      <td>7</td>\n",
              "      <td>7</td>\n",
              "      <td>16</td>\n",
              "      <td>21</td>\n",
              "    </tr>\n",
              "    <tr>\n",
              "      <th>dloss</th>\n",
              "      <td>30</td>\n",
              "      <td>17</td>\n",
              "      <td>143</td>\n",
              "      <td>197</td>\n",
              "    </tr>\n",
              "    <tr>\n",
              "      <th>service</th>\n",
              "      <td>-</td>\n",
              "      <td>-</td>\n",
              "      <td>-</td>\n",
              "      <td>-</td>\n",
              "    </tr>\n",
              "    <tr>\n",
              "      <th>Sload</th>\n",
              "      <td>328439</td>\n",
              "      <td>488694</td>\n",
              "      <td>29863.5</td>\n",
              "      <td>40381.2</td>\n",
              "    </tr>\n",
              "    <tr>\n",
              "      <th>Dload</th>\n",
              "      <td>5.08703e+06</td>\n",
              "      <td>5.1811e+06</td>\n",
              "      <td>1.13084e+06</td>\n",
              "      <td>1.66156e+06</td>\n",
              "    </tr>\n",
              "    <tr>\n",
              "      <th>Spkts</th>\n",
              "      <td>72</td>\n",
              "      <td>44</td>\n",
              "      <td>180</td>\n",
              "      <td>232</td>\n",
              "    </tr>\n",
              "    <tr>\n",
              "      <th>Dpkts</th>\n",
              "      <td>74</td>\n",
              "      <td>48</td>\n",
              "      <td>320</td>\n",
              "      <td>438</td>\n",
              "    </tr>\n",
              "    <tr>\n",
              "      <th>swin</th>\n",
              "      <td>255</td>\n",
              "      <td>255</td>\n",
              "      <td>255</td>\n",
              "      <td>255</td>\n",
              "    </tr>\n",
              "    <tr>\n",
              "      <th>dwin</th>\n",
              "      <td>255</td>\n",
              "      <td>255</td>\n",
              "      <td>255</td>\n",
              "      <td>255</td>\n",
              "    </tr>\n",
              "    <tr>\n",
              "      <th>stcpb</th>\n",
              "      <td>961515433</td>\n",
              "      <td>3291096757</td>\n",
              "      <td>3934392726</td>\n",
              "      <td>1518931</td>\n",
              "    </tr>\n",
              "    <tr>\n",
              "      <th>dtcpb</th>\n",
              "      <td>3225510659</td>\n",
              "      <td>1191410228</td>\n",
              "      <td>3961690324</td>\n",
              "      <td>18267719</td>\n",
              "    </tr>\n",
              "    <tr>\n",
              "      <th>smeansz</th>\n",
              "      <td>59</td>\n",
              "      <td>63</td>\n",
              "      <td>58</td>\n",
              "      <td>58</td>\n",
              "    </tr>\n",
              "    <tr>\n",
              "      <th>dmeansz</th>\n",
              "      <td>887</td>\n",
              "      <td>606</td>\n",
              "      <td>1237</td>\n",
              "      <td>1252</td>\n",
              "    </tr>\n",
              "    <tr>\n",
              "      <th>trans_depth</th>\n",
              "      <td>0</td>\n",
              "      <td>0</td>\n",
              "      <td>0</td>\n",
              "      <td>0</td>\n",
              "    </tr>\n",
              "    <tr>\n",
              "      <th>res_bdy_len</th>\n",
              "      <td>0</td>\n",
              "      <td>0</td>\n",
              "      <td>0</td>\n",
              "      <td>0</td>\n",
              "    </tr>\n",
              "    <tr>\n",
              "      <th>Sjit</th>\n",
              "      <td>0</td>\n",
              "      <td>78.127</td>\n",
              "      <td>2707.49</td>\n",
              "      <td>718.337</td>\n",
              "    </tr>\n",
              "    <tr>\n",
              "      <th>Djit</th>\n",
              "      <td>91.5796</td>\n",
              "      <td>62.2066</td>\n",
              "      <td>2018.98</td>\n",
              "      <td>500.573</td>\n",
              "    </tr>\n",
              "    <tr>\n",
              "      <th>Stime</th>\n",
              "      <td>1421970775</td>\n",
              "      <td>1421970775</td>\n",
              "      <td>1421970772</td>\n",
              "      <td>1421970773</td>\n",
              "    </tr>\n",
              "    <tr>\n",
              "      <th>Ltime</th>\n",
              "      <td>1421970775</td>\n",
              "      <td>1421970775</td>\n",
              "      <td>1421970775</td>\n",
              "      <td>1421970775</td>\n",
              "    </tr>\n",
              "    <tr>\n",
              "      <th>Sintpkt</th>\n",
              "      <td>1.42949</td>\n",
              "      <td>1.01498</td>\n",
              "      <td>15.5895</td>\n",
              "      <td>11.399</td>\n",
              "    </tr>\n",
              "    <tr>\n",
              "      <th>Dintpkt</th>\n",
              "      <td>1.38719</td>\n",
              "      <td>0.92583</td>\n",
              "      <td>8.74701</td>\n",
              "      <td>6.02518</td>\n",
              "    </tr>\n",
              "    <tr>\n",
              "      <th>tcprtt</th>\n",
              "      <td>0.00068</td>\n",
              "      <td>0.00125</td>\n",
              "      <td>0.000684</td>\n",
              "      <td>0.000619</td>\n",
              "    </tr>\n",
              "    <tr>\n",
              "      <th>synack</th>\n",
              "      <td>0.000546</td>\n",
              "      <td>0.000485</td>\n",
              "      <td>0.000532</td>\n",
              "      <td>0.000489</td>\n",
              "    </tr>\n",
              "    <tr>\n",
              "      <th>ackdat</th>\n",
              "      <td>0.000134</td>\n",
              "      <td>0.000765</td>\n",
              "      <td>0.000152</td>\n",
              "      <td>0.00013</td>\n",
              "    </tr>\n",
              "    <tr>\n",
              "      <th>is_sm_ips_ports</th>\n",
              "      <td>0</td>\n",
              "      <td>0</td>\n",
              "      <td>0</td>\n",
              "      <td>0</td>\n",
              "    </tr>\n",
              "    <tr>\n",
              "      <th>ct_state_ttl</th>\n",
              "      <td>0</td>\n",
              "      <td>0</td>\n",
              "      <td>0</td>\n",
              "      <td>0</td>\n",
              "    </tr>\n",
              "    <tr>\n",
              "      <th>ct_flw_http_mthd</th>\n",
              "      <td>0</td>\n",
              "      <td>0</td>\n",
              "      <td>0</td>\n",
              "      <td>0</td>\n",
              "    </tr>\n",
              "    <tr>\n",
              "      <th>is_ftp_login</th>\n",
              "      <td>0</td>\n",
              "      <td>0</td>\n",
              "      <td>0</td>\n",
              "      <td>0</td>\n",
              "    </tr>\n",
              "    <tr>\n",
              "      <th>ct_ftp_cmd</th>\n",
              "      <td>0</td>\n",
              "      <td>0</td>\n",
              "      <td>0</td>\n",
              "      <td>0</td>\n",
              "    </tr>\n",
              "    <tr>\n",
              "      <th>ct_srv_src</th>\n",
              "      <td>7</td>\n",
              "      <td>3</td>\n",
              "      <td>11</td>\n",
              "      <td>16</td>\n",
              "    </tr>\n",
              "    <tr>\n",
              "      <th>ct_srv_dst</th>\n",
              "      <td>4</td>\n",
              "      <td>5</td>\n",
              "      <td>4</td>\n",
              "      <td>7</td>\n",
              "    </tr>\n",
              "    <tr>\n",
              "      <th>ct_dst_ltm</th>\n",
              "      <td>1</td>\n",
              "      <td>3</td>\n",
              "      <td>3</td>\n",
              "      <td>7</td>\n",
              "    </tr>\n",
              "    <tr>\n",
              "      <th>ct_src_ ltm</th>\n",
              "      <td>6</td>\n",
              "      <td>3</td>\n",
              "      <td>2</td>\n",
              "      <td>1</td>\n",
              "    </tr>\n",
              "    <tr>\n",
              "      <th>ct_src_dport_ltm</th>\n",
              "      <td>1</td>\n",
              "      <td>1</td>\n",
              "      <td>1</td>\n",
              "      <td>1</td>\n",
              "    </tr>\n",
              "    <tr>\n",
              "      <th>ct_dst_sport_ltm</th>\n",
              "      <td>1</td>\n",
              "      <td>1</td>\n",
              "      <td>1</td>\n",
              "      <td>1</td>\n",
              "    </tr>\n",
              "    <tr>\n",
              "      <th>ct_dst_src_ltm</th>\n",
              "      <td>1</td>\n",
              "      <td>1</td>\n",
              "      <td>1</td>\n",
              "      <td>1</td>\n",
              "    </tr>\n",
              "    <tr>\n",
              "      <th>attack_cat</th>\n",
              "      <td>None</td>\n",
              "      <td>None</td>\n",
              "      <td>None</td>\n",
              "      <td>None</td>\n",
              "    </tr>\n",
              "    <tr>\n",
              "      <th>Label</th>\n",
              "      <td>0</td>\n",
              "      <td>0</td>\n",
              "      <td>0</td>\n",
              "      <td>0</td>\n",
              "    </tr>\n",
              "  </tbody>\n",
              "</table>\n",
              "</div>"
            ],
            "text/plain": [
              "                              0              1              2              3\n",
              "srcip                59.166.0.0     59.166.0.5     59.166.0.9     59.166.0.8\n",
              "sport                     43467          41289          43785          40691\n",
              "dstip             149.171.126.6  149.171.126.2  149.171.126.0  149.171.126.9\n",
              "dsport                    49729           9574           6881           6881\n",
              "proto                       tcp            tcp            tcp            tcp\n",
              "state                       FIN            FIN            FIN            FIN\n",
              "dur                    0.101815       0.044003        2.79083         2.6335\n",
              "sbytes                     4238           2750          10476          13350\n",
              "dbytes                    65628          29104         395734         548216\n",
              "sttl                         31             31             31             31\n",
              "dttl                         29             29             29             29\n",
              "sloss                         7              7             16             21\n",
              "dloss                        30             17            143            197\n",
              "service                       -              -              -              -\n",
              "Sload                    328439         488694        29863.5        40381.2\n",
              "Dload               5.08703e+06     5.1811e+06    1.13084e+06    1.66156e+06\n",
              "Spkts                        72             44            180            232\n",
              "Dpkts                        74             48            320            438\n",
              "swin                        255            255            255            255\n",
              "dwin                        255            255            255            255\n",
              "stcpb                 961515433     3291096757     3934392726        1518931\n",
              "dtcpb                3225510659     1191410228     3961690324       18267719\n",
              "smeansz                      59             63             58             58\n",
              "dmeansz                     887            606           1237           1252\n",
              "trans_depth                   0              0              0              0\n",
              "res_bdy_len                   0              0              0              0\n",
              "Sjit                          0         78.127        2707.49        718.337\n",
              "Djit                    91.5796        62.2066        2018.98        500.573\n",
              "Stime                1421970775     1421970775     1421970772     1421970773\n",
              "Ltime                1421970775     1421970775     1421970775     1421970775\n",
              "Sintpkt                 1.42949        1.01498        15.5895         11.399\n",
              "Dintpkt                 1.38719        0.92583        8.74701        6.02518\n",
              "tcprtt                  0.00068        0.00125       0.000684       0.000619\n",
              "synack                 0.000546       0.000485       0.000532       0.000489\n",
              "ackdat                 0.000134       0.000765       0.000152        0.00013\n",
              "is_sm_ips_ports               0              0              0              0\n",
              "ct_state_ttl                  0              0              0              0\n",
              "ct_flw_http_mthd              0              0              0              0\n",
              "is_ftp_login                  0              0              0              0\n",
              "ct_ftp_cmd                    0              0              0              0\n",
              "ct_srv_src                    7              3             11             16\n",
              "ct_srv_dst                    4              5              4              7\n",
              "ct_dst_ltm                    1              3              3              7\n",
              "ct_src_ ltm                   6              3              2              1\n",
              "ct_src_dport_ltm              1              1              1              1\n",
              "ct_dst_sport_ltm              1              1              1              1\n",
              "ct_dst_src_ltm                1              1              1              1\n",
              "attack_cat                 None           None           None           None\n",
              "Label                         0              0              0              0"
            ]
          },
          "metadata": {
            "tags": []
          },
          "execution_count": 5
        }
      ]
    },
    {
      "cell_type": "markdown",
      "metadata": {
        "id": "0gdBXB3I7zyQ"
      },
      "source": [
        "Removing the Duplicate records, found **480624** duplicate records"
      ]
    },
    {
      "cell_type": "code",
      "metadata": {
        "colab": {
          "base_uri": "https://localhost:8080/"
        },
        "id": "8effmFie5b8i",
        "outputId": "22aad38b-336e-426b-d16d-fe1bab3a6efc"
      },
      "source": [
        "print(\"Total number of records =\",dfTE.count())\n",
        "\n",
        "df3 = dfTE.dropDuplicates()\n",
        "\n",
        "print(\"After removing the duplicate records =\",df3.count())\n",
        "\n",
        "duplicates= (dfTE.count()) - (df3.count())\n",
        "\n",
        "print(\" Number of Duplicate records =\", duplicates)"
      ],
      "execution_count": null,
      "outputs": [
        {
          "output_type": "stream",
          "text": [
            "Total number of records = 2539738\n",
            "After removing the duplicate records = 2059114\n",
            " Number of Duplicate records = 480624\n"
          ],
          "name": "stdout"
        }
      ]
    },
    {
      "cell_type": "markdown",
      "metadata": {
        "id": "zDIqHJWE84lu"
      },
      "source": [
        "Checking if any Null values for the given dataset. found **'attack_cat': 1959471** null values or not mention any thing."
      ]
    },
    {
      "cell_type": "code",
      "metadata": {
        "colab": {
          "base_uri": "https://localhost:8080/"
        },
        "id": "k5XigVnH7w5J",
        "outputId": "437a790d-276a-4a9a-eec4-8afda4a3522a"
      },
      "source": [
        "Dict_Null = {col:df3.filter(df3[col].isNull()).count() for col in df3.columns}\n",
        "Dict_Null"
      ],
      "execution_count": null,
      "outputs": [
        {
          "output_type": "execute_result",
          "data": {
            "text/plain": [
              "{'Dintpkt': 0,\n",
              " 'Djit': 0,\n",
              " 'Dload': 0,\n",
              " 'Dpkts': 0,\n",
              " 'Label': 0,\n",
              " 'Ltime': 0,\n",
              " 'Sintpkt': 0,\n",
              " 'Sjit': 0,\n",
              " 'Sload': 0,\n",
              " 'Spkts': 0,\n",
              " 'Stime': 0,\n",
              " 'ackdat': 0,\n",
              " 'attack_cat': 1959471,\n",
              " 'ct_dst_ltm': 0,\n",
              " 'ct_dst_sport_ltm': 0,\n",
              " 'ct_dst_src_ltm': 0,\n",
              " 'ct_flw_http_mthd': 0,\n",
              " 'ct_ftp_cmd': 0,\n",
              " 'ct_src_ ltm': 0,\n",
              " 'ct_src_dport_ltm': 0,\n",
              " 'ct_srv_dst': 0,\n",
              " 'ct_srv_src': 0,\n",
              " 'ct_state_ttl': 0,\n",
              " 'dbytes': 0,\n",
              " 'dloss': 0,\n",
              " 'dmeansz': 0,\n",
              " 'dsport': 0,\n",
              " 'dstip': 0,\n",
              " 'dtcpb': 0,\n",
              " 'dttl': 0,\n",
              " 'dur': 0,\n",
              " 'dwin': 0,\n",
              " 'is_ftp_login': 0,\n",
              " 'is_sm_ips_ports': 0,\n",
              " 'proto': 0,\n",
              " 'res_bdy_len': 0,\n",
              " 'sbytes': 0,\n",
              " 'service': 0,\n",
              " 'sloss': 0,\n",
              " 'smeansz': 0,\n",
              " 'sport': 0,\n",
              " 'srcip': 0,\n",
              " 'state': 0,\n",
              " 'stcpb': 0,\n",
              " 'sttl': 0,\n",
              " 'swin': 0,\n",
              " 'synack': 0,\n",
              " 'tcprtt': 0,\n",
              " 'trans_depth': 0}"
            ]
          },
          "metadata": {
            "tags": []
          },
          "execution_count": 9
        }
      ]
    },
    {
      "cell_type": "markdown",
      "metadata": {
        "id": "99s29abZAG_P"
      },
      "source": [
        "Grouping and aggregating on our desired columns **lable** and **attack_cat** in lable values **0 for normal and 1 for attack records**"
      ]
    },
    {
      "cell_type": "code",
      "metadata": {
        "colab": {
          "base_uri": "https://localhost:8080/"
        },
        "id": "KhWvd1_k_iT3",
        "outputId": "9bc5e5e3-1acb-4151-d2d7-a5cde884c58f"
      },
      "source": [
        "from pyspark.sql.functions import col, trim,countDistinct\n",
        "from pyspark.sql.functions import *\n",
        "\n",
        "df3.agg(countDistinct(col(\"Label\")).alias(\"count\")).show()\n",
        "\n",
        "df3.agg(countDistinct(col(\"attack_cat\")).alias(\"count\")).show()\n",
        "\n",
        "df3.groupBy(\"Label\").count().show()\n",
        "df3.groupBy(\"attack_cat\").count().show()"
      ],
      "execution_count": null,
      "outputs": [
        {
          "output_type": "stream",
          "text": [
            "+-----+\n",
            "|count|\n",
            "+-----+\n",
            "|    2|\n",
            "+-----+\n",
            "\n",
            "+-----+\n",
            "|count|\n",
            "+-----+\n",
            "|   10|\n",
            "+-----+\n",
            "\n",
            "+-----+-------+\n",
            "|Label|  count|\n",
            "+-----+-------+\n",
            "|    1|  99643|\n",
            "|    0|1959471|\n",
            "+-----+-------+\n",
            "\n",
            "+--------------+-------+\n",
            "|    attack_cat|  count|\n",
            "+--------------+-------+\n",
            "|         Worms|    171|\n",
            "|     Shellcode|   1511|\n",
            "|       Fuzzers|  21795|\n",
            "|      Analysis|   2184|\n",
            "|           DoS|   5665|\n",
            "|Reconnaissance|  13357|\n",
            "|      Backdoor|   1983|\n",
            "|      Exploits|  27599|\n",
            "|  Not_Effected|1959471|\n",
            "|       Generic|  25378|\n",
            "+--------------+-------+\n",
            "\n"
          ],
          "name": "stdout"
        }
      ]
    },
    {
      "cell_type": "markdown",
      "metadata": {
        "id": "QZx9EqOIBavL"
      },
      "source": [
        "In attack_cat column so many null values and duplicate found. ex:Backdoors and Backdoor are same. so taking them as unique and removing the spaces as well.\n"
      ]
    },
    {
      "cell_type": "code",
      "metadata": {
        "id": "CErZZkeG_B3H"
      },
      "source": [
        "df3 = df3.withColumn(\"attack_cat\", trim(col(\"attack_cat\")))\n",
        "df3 = df3.withColumn('attack_cat', regexp_replace('attack_cat', 'Backdoors', 'Backdoor'))\n"
      ],
      "execution_count": null,
      "outputs": []
    },
    {
      "cell_type": "code",
      "metadata": {
        "colab": {
          "base_uri": "https://localhost:8080/"
        },
        "id": "bG2Fjm37Ct7L",
        "outputId": "0ee62ddb-0857-4d82-bf6d-af570bafc74d"
      },
      "source": [
        "df3.agg(countDistinct(col(\"attack_cat\")).alias(\"count\")).show()\n",
        "\n",
        "df3.groupBy(\"attack_cat\").count().show()"
      ],
      "execution_count": null,
      "outputs": [
        {
          "output_type": "stream",
          "text": [
            "+-----+\n",
            "|count|\n",
            "+-----+\n",
            "|    9|\n",
            "+-----+\n",
            "\n",
            "+--------------+-------+\n",
            "|    attack_cat|  count|\n",
            "+--------------+-------+\n",
            "|         Worms|    171|\n",
            "|     Shellcode|   1511|\n",
            "|          null|1959471|\n",
            "|       Fuzzers|  21795|\n",
            "|      Analysis|   2184|\n",
            "|           DoS|   5665|\n",
            "|Reconnaissance|  13357|\n",
            "|      Backdoor|   1983|\n",
            "|      Exploits|  27599|\n",
            "|       Generic|  25378|\n",
            "+--------------+-------+\n",
            "\n"
          ],
          "name": "stdout"
        }
      ]
    },
    {
      "cell_type": "code",
      "metadata": {
        "id": "YiTvXyoScnnJ"
      },
      "source": [
        "from pyspark.sql.functions import expr , when , lit , col\n",
        "df3=df3.withColumn('attack_cat', when(col('attack_cat') == '',None).otherwise(col('attack_cat')))"
      ],
      "execution_count": null,
      "outputs": []
    },
    {
      "cell_type": "markdown",
      "metadata": {
        "id": "1JOOznD_dYSq"
      },
      "source": [
        "Changing the **Null** 1959471 values to **Not effected** by considering below sql quires"
      ]
    },
    {
      "cell_type": "code",
      "metadata": {
        "colab": {
          "base_uri": "https://localhost:8080/",
          "height": 1000
        },
        "id": "5UlCMKnyctQO",
        "outputId": "5b6422b4-8a47-4274-da5b-a66ace4c956b"
      },
      "source": [
        "df3= df3.withColumn('attack_cat', when (df3.attack_cat.isNull(),lit('Not_Effected')).otherwise(df3.attack_cat))\n",
        "\n",
        "pd.DataFrame(df3.take(8), columns=df3.columns).transpose()"
      ],
      "execution_count": null,
      "outputs": [
        {
          "output_type": "execute_result",
          "data": {
            "text/html": [
              "<div>\n",
              "<style scoped>\n",
              "    .dataframe tbody tr th:only-of-type {\n",
              "        vertical-align: middle;\n",
              "    }\n",
              "\n",
              "    .dataframe tbody tr th {\n",
              "        vertical-align: top;\n",
              "    }\n",
              "\n",
              "    .dataframe thead th {\n",
              "        text-align: right;\n",
              "    }\n",
              "</style>\n",
              "<table border=\"1\" class=\"dataframe\">\n",
              "  <thead>\n",
              "    <tr style=\"text-align: right;\">\n",
              "      <th></th>\n",
              "      <th>0</th>\n",
              "      <th>1</th>\n",
              "      <th>2</th>\n",
              "      <th>3</th>\n",
              "      <th>4</th>\n",
              "      <th>5</th>\n",
              "      <th>6</th>\n",
              "      <th>7</th>\n",
              "    </tr>\n",
              "  </thead>\n",
              "  <tbody>\n",
              "    <tr>\n",
              "      <th>srcip</th>\n",
              "      <td>10.40.182.3</td>\n",
              "      <td>10.40.182.3</td>\n",
              "      <td>10.40.170.2</td>\n",
              "      <td>149.171.126.12</td>\n",
              "      <td>175.45.176.3</td>\n",
              "      <td>175.45.176.0</td>\n",
              "      <td>175.45.176.0</td>\n",
              "      <td>175.45.176.0</td>\n",
              "    </tr>\n",
              "    <tr>\n",
              "      <th>sport</th>\n",
              "      <td>0</td>\n",
              "      <td>0</td>\n",
              "      <td>0</td>\n",
              "      <td>1043</td>\n",
              "      <td>63491</td>\n",
              "      <td>18506</td>\n",
              "      <td>65433</td>\n",
              "      <td>32910</td>\n",
              "    </tr>\n",
              "    <tr>\n",
              "      <th>dstip</th>\n",
              "      <td>10.40.182.3</td>\n",
              "      <td>10.40.182.3</td>\n",
              "      <td>10.40.170.2</td>\n",
              "      <td>175.45.176.0</td>\n",
              "      <td>149.171.126.19</td>\n",
              "      <td>149.171.126.12</td>\n",
              "      <td>149.171.126.15</td>\n",
              "      <td>149.171.126.17</td>\n",
              "    </tr>\n",
              "    <tr>\n",
              "      <th>dsport</th>\n",
              "      <td>0</td>\n",
              "      <td>0</td>\n",
              "      <td>0</td>\n",
              "      <td>53</td>\n",
              "      <td>36782</td>\n",
              "      <td>111</td>\n",
              "      <td>111</td>\n",
              "      <td>1813</td>\n",
              "    </tr>\n",
              "    <tr>\n",
              "      <th>proto</th>\n",
              "      <td>arp</td>\n",
              "      <td>arp</td>\n",
              "      <td>arp</td>\n",
              "      <td>udp</td>\n",
              "      <td>udp</td>\n",
              "      <td>udp</td>\n",
              "      <td>udp</td>\n",
              "      <td>udp</td>\n",
              "    </tr>\n",
              "    <tr>\n",
              "      <th>state</th>\n",
              "      <td>INT</td>\n",
              "      <td>INT</td>\n",
              "      <td>INT</td>\n",
              "      <td>INT</td>\n",
              "      <td>INT</td>\n",
              "      <td>INT</td>\n",
              "      <td>INT</td>\n",
              "      <td>INT</td>\n",
              "    </tr>\n",
              "    <tr>\n",
              "      <th>dur</th>\n",
              "      <td>0</td>\n",
              "      <td>0</td>\n",
              "      <td>0</td>\n",
              "      <td>2e-06</td>\n",
              "      <td>1e-06</td>\n",
              "      <td>3e-06</td>\n",
              "      <td>3e-06</td>\n",
              "      <td>3e-06</td>\n",
              "    </tr>\n",
              "    <tr>\n",
              "      <th>sbytes</th>\n",
              "      <td>46</td>\n",
              "      <td>46</td>\n",
              "      <td>46</td>\n",
              "      <td>264</td>\n",
              "      <td>110</td>\n",
              "      <td>168</td>\n",
              "      <td>168</td>\n",
              "      <td>172</td>\n",
              "    </tr>\n",
              "    <tr>\n",
              "      <th>dbytes</th>\n",
              "      <td>0</td>\n",
              "      <td>0</td>\n",
              "      <td>0</td>\n",
              "      <td>0</td>\n",
              "      <td>0</td>\n",
              "      <td>0</td>\n",
              "      <td>0</td>\n",
              "      <td>0</td>\n",
              "    </tr>\n",
              "    <tr>\n",
              "      <th>sttl</th>\n",
              "      <td>0</td>\n",
              "      <td>0</td>\n",
              "      <td>0</td>\n",
              "      <td>60</td>\n",
              "      <td>254</td>\n",
              "      <td>254</td>\n",
              "      <td>254</td>\n",
              "      <td>254</td>\n",
              "    </tr>\n",
              "    <tr>\n",
              "      <th>dttl</th>\n",
              "      <td>0</td>\n",
              "      <td>0</td>\n",
              "      <td>0</td>\n",
              "      <td>0</td>\n",
              "      <td>0</td>\n",
              "      <td>0</td>\n",
              "      <td>0</td>\n",
              "      <td>0</td>\n",
              "    </tr>\n",
              "    <tr>\n",
              "      <th>sloss</th>\n",
              "      <td>0</td>\n",
              "      <td>0</td>\n",
              "      <td>0</td>\n",
              "      <td>0</td>\n",
              "      <td>0</td>\n",
              "      <td>0</td>\n",
              "      <td>0</td>\n",
              "      <td>0</td>\n",
              "    </tr>\n",
              "    <tr>\n",
              "      <th>dloss</th>\n",
              "      <td>0</td>\n",
              "      <td>0</td>\n",
              "      <td>0</td>\n",
              "      <td>0</td>\n",
              "      <td>0</td>\n",
              "      <td>0</td>\n",
              "      <td>0</td>\n",
              "      <td>0</td>\n",
              "    </tr>\n",
              "    <tr>\n",
              "      <th>service</th>\n",
              "      <td>-</td>\n",
              "      <td>-</td>\n",
              "      <td>-</td>\n",
              "      <td>dns</td>\n",
              "      <td>-</td>\n",
              "      <td>-</td>\n",
              "      <td>-</td>\n",
              "      <td>-</td>\n",
              "    </tr>\n",
              "    <tr>\n",
              "      <th>Sload</th>\n",
              "      <td>0</td>\n",
              "      <td>0</td>\n",
              "      <td>0</td>\n",
              "      <td>5.28e+08</td>\n",
              "      <td>4.4e+08</td>\n",
              "      <td>2.24e+08</td>\n",
              "      <td>2.24e+08</td>\n",
              "      <td>2.29333e+08</td>\n",
              "    </tr>\n",
              "    <tr>\n",
              "      <th>Dload</th>\n",
              "      <td>0</td>\n",
              "      <td>0</td>\n",
              "      <td>0</td>\n",
              "      <td>0</td>\n",
              "      <td>0</td>\n",
              "      <td>0</td>\n",
              "      <td>0</td>\n",
              "      <td>0</td>\n",
              "    </tr>\n",
              "    <tr>\n",
              "      <th>Spkts</th>\n",
              "      <td>1</td>\n",
              "      <td>1</td>\n",
              "      <td>1</td>\n",
              "      <td>2</td>\n",
              "      <td>2</td>\n",
              "      <td>2</td>\n",
              "      <td>2</td>\n",
              "      <td>2</td>\n",
              "    </tr>\n",
              "    <tr>\n",
              "      <th>Dpkts</th>\n",
              "      <td>0</td>\n",
              "      <td>0</td>\n",
              "      <td>0</td>\n",
              "      <td>0</td>\n",
              "      <td>0</td>\n",
              "      <td>0</td>\n",
              "      <td>0</td>\n",
              "      <td>0</td>\n",
              "    </tr>\n",
              "    <tr>\n",
              "      <th>swin</th>\n",
              "      <td>0</td>\n",
              "      <td>0</td>\n",
              "      <td>0</td>\n",
              "      <td>0</td>\n",
              "      <td>0</td>\n",
              "      <td>0</td>\n",
              "      <td>0</td>\n",
              "      <td>0</td>\n",
              "    </tr>\n",
              "    <tr>\n",
              "      <th>dwin</th>\n",
              "      <td>0</td>\n",
              "      <td>0</td>\n",
              "      <td>0</td>\n",
              "      <td>0</td>\n",
              "      <td>0</td>\n",
              "      <td>0</td>\n",
              "      <td>0</td>\n",
              "      <td>0</td>\n",
              "    </tr>\n",
              "    <tr>\n",
              "      <th>stcpb</th>\n",
              "      <td>0</td>\n",
              "      <td>0</td>\n",
              "      <td>0</td>\n",
              "      <td>0</td>\n",
              "      <td>0</td>\n",
              "      <td>0</td>\n",
              "      <td>0</td>\n",
              "      <td>0</td>\n",
              "    </tr>\n",
              "    <tr>\n",
              "      <th>dtcpb</th>\n",
              "      <td>0</td>\n",
              "      <td>0</td>\n",
              "      <td>0</td>\n",
              "      <td>0</td>\n",
              "      <td>0</td>\n",
              "      <td>0</td>\n",
              "      <td>0</td>\n",
              "      <td>0</td>\n",
              "    </tr>\n",
              "    <tr>\n",
              "      <th>smeansz</th>\n",
              "      <td>46</td>\n",
              "      <td>46</td>\n",
              "      <td>46</td>\n",
              "      <td>132</td>\n",
              "      <td>55</td>\n",
              "      <td>84</td>\n",
              "      <td>84</td>\n",
              "      <td>86</td>\n",
              "    </tr>\n",
              "    <tr>\n",
              "      <th>dmeansz</th>\n",
              "      <td>0</td>\n",
              "      <td>0</td>\n",
              "      <td>0</td>\n",
              "      <td>0</td>\n",
              "      <td>0</td>\n",
              "      <td>0</td>\n",
              "      <td>0</td>\n",
              "      <td>0</td>\n",
              "    </tr>\n",
              "    <tr>\n",
              "      <th>trans_depth</th>\n",
              "      <td>0</td>\n",
              "      <td>0</td>\n",
              "      <td>0</td>\n",
              "      <td>0</td>\n",
              "      <td>0</td>\n",
              "      <td>0</td>\n",
              "      <td>0</td>\n",
              "      <td>0</td>\n",
              "    </tr>\n",
              "    <tr>\n",
              "      <th>res_bdy_len</th>\n",
              "      <td>0</td>\n",
              "      <td>0</td>\n",
              "      <td>0</td>\n",
              "      <td>0</td>\n",
              "      <td>0</td>\n",
              "      <td>0</td>\n",
              "      <td>0</td>\n",
              "      <td>0</td>\n",
              "    </tr>\n",
              "    <tr>\n",
              "      <th>Sjit</th>\n",
              "      <td>10.9545</td>\n",
              "      <td>0</td>\n",
              "      <td>0</td>\n",
              "      <td>0</td>\n",
              "      <td>0</td>\n",
              "      <td>0</td>\n",
              "      <td>0</td>\n",
              "      <td>0</td>\n",
              "    </tr>\n",
              "    <tr>\n",
              "      <th>Djit</th>\n",
              "      <td>0</td>\n",
              "      <td>0</td>\n",
              "      <td>0</td>\n",
              "      <td>0</td>\n",
              "      <td>0</td>\n",
              "      <td>0</td>\n",
              "      <td>0</td>\n",
              "      <td>0</td>\n",
              "    </tr>\n",
              "    <tr>\n",
              "      <th>Stime</th>\n",
              "      <td>1424220371</td>\n",
              "      <td>1424228291</td>\n",
              "      <td>1424227511</td>\n",
              "      <td>1424223491</td>\n",
              "      <td>1424227782</td>\n",
              "      <td>1424229026</td>\n",
              "      <td>1424231235</td>\n",
              "      <td>1424226559</td>\n",
              "    </tr>\n",
              "    <tr>\n",
              "      <th>Ltime</th>\n",
              "      <td>1424220371</td>\n",
              "      <td>1424228291</td>\n",
              "      <td>1424227511</td>\n",
              "      <td>1424223491</td>\n",
              "      <td>1424227782</td>\n",
              "      <td>1424229026</td>\n",
              "      <td>1424231235</td>\n",
              "      <td>1424226559</td>\n",
              "    </tr>\n",
              "    <tr>\n",
              "      <th>Sintpkt</th>\n",
              "      <td>60000.7</td>\n",
              "      <td>60000.7</td>\n",
              "      <td>60000.8</td>\n",
              "      <td>0.002</td>\n",
              "      <td>0.001</td>\n",
              "      <td>0.003</td>\n",
              "      <td>0.003</td>\n",
              "      <td>0.003</td>\n",
              "    </tr>\n",
              "    <tr>\n",
              "      <th>Dintpkt</th>\n",
              "      <td>0</td>\n",
              "      <td>0</td>\n",
              "      <td>0</td>\n",
              "      <td>0</td>\n",
              "      <td>0</td>\n",
              "      <td>0</td>\n",
              "      <td>0</td>\n",
              "      <td>0</td>\n",
              "    </tr>\n",
              "    <tr>\n",
              "      <th>tcprtt</th>\n",
              "      <td>0</td>\n",
              "      <td>0</td>\n",
              "      <td>0</td>\n",
              "      <td>0</td>\n",
              "      <td>0</td>\n",
              "      <td>0</td>\n",
              "      <td>0</td>\n",
              "      <td>0</td>\n",
              "    </tr>\n",
              "    <tr>\n",
              "      <th>synack</th>\n",
              "      <td>0</td>\n",
              "      <td>0</td>\n",
              "      <td>0</td>\n",
              "      <td>0</td>\n",
              "      <td>0</td>\n",
              "      <td>0</td>\n",
              "      <td>0</td>\n",
              "      <td>0</td>\n",
              "    </tr>\n",
              "    <tr>\n",
              "      <th>ackdat</th>\n",
              "      <td>0</td>\n",
              "      <td>0</td>\n",
              "      <td>0</td>\n",
              "      <td>0</td>\n",
              "      <td>0</td>\n",
              "      <td>0</td>\n",
              "      <td>0</td>\n",
              "      <td>0</td>\n",
              "    </tr>\n",
              "    <tr>\n",
              "      <th>is_sm_ips_ports</th>\n",
              "      <td>1</td>\n",
              "      <td>1</td>\n",
              "      <td>1</td>\n",
              "      <td>0</td>\n",
              "      <td>0</td>\n",
              "      <td>0</td>\n",
              "      <td>0</td>\n",
              "      <td>0</td>\n",
              "    </tr>\n",
              "    <tr>\n",
              "      <th>ct_state_ttl</th>\n",
              "      <td>2</td>\n",
              "      <td>2</td>\n",
              "      <td>2</td>\n",
              "      <td>0</td>\n",
              "      <td>2</td>\n",
              "      <td>2</td>\n",
              "      <td>2</td>\n",
              "      <td>2</td>\n",
              "    </tr>\n",
              "    <tr>\n",
              "      <th>ct_flw_http_mthd</th>\n",
              "      <td>0</td>\n",
              "      <td>0</td>\n",
              "      <td>0</td>\n",
              "      <td>0</td>\n",
              "      <td>0</td>\n",
              "      <td>0</td>\n",
              "      <td>0</td>\n",
              "      <td>0</td>\n",
              "    </tr>\n",
              "    <tr>\n",
              "      <th>is_ftp_login</th>\n",
              "      <td>0</td>\n",
              "      <td>0</td>\n",
              "      <td>0</td>\n",
              "      <td>0</td>\n",
              "      <td>0</td>\n",
              "      <td>0</td>\n",
              "      <td>0</td>\n",
              "      <td>0</td>\n",
              "    </tr>\n",
              "    <tr>\n",
              "      <th>ct_ftp_cmd</th>\n",
              "      <td>0</td>\n",
              "      <td>0</td>\n",
              "      <td>0</td>\n",
              "      <td>0</td>\n",
              "      <td>0</td>\n",
              "      <td>0</td>\n",
              "      <td>0</td>\n",
              "      <td>0</td>\n",
              "    </tr>\n",
              "    <tr>\n",
              "      <th>ct_srv_src</th>\n",
              "      <td>1</td>\n",
              "      <td>1</td>\n",
              "      <td>1</td>\n",
              "      <td>26</td>\n",
              "      <td>3</td>\n",
              "      <td>1</td>\n",
              "      <td>9</td>\n",
              "      <td>2</td>\n",
              "    </tr>\n",
              "    <tr>\n",
              "      <th>ct_srv_dst</th>\n",
              "      <td>1</td>\n",
              "      <td>1</td>\n",
              "      <td>1</td>\n",
              "      <td>26</td>\n",
              "      <td>1</td>\n",
              "      <td>1</td>\n",
              "      <td>1</td>\n",
              "      <td>1</td>\n",
              "    </tr>\n",
              "    <tr>\n",
              "      <th>ct_dst_ltm</th>\n",
              "      <td>1</td>\n",
              "      <td>1</td>\n",
              "      <td>1</td>\n",
              "      <td>1</td>\n",
              "      <td>1</td>\n",
              "      <td>1</td>\n",
              "      <td>1</td>\n",
              "      <td>1</td>\n",
              "    </tr>\n",
              "    <tr>\n",
              "      <th>ct_src_ ltm</th>\n",
              "      <td>1</td>\n",
              "      <td>1</td>\n",
              "      <td>1</td>\n",
              "      <td>1</td>\n",
              "      <td>2</td>\n",
              "      <td>1</td>\n",
              "      <td>5</td>\n",
              "      <td>1</td>\n",
              "    </tr>\n",
              "    <tr>\n",
              "      <th>ct_src_dport_ltm</th>\n",
              "      <td>1</td>\n",
              "      <td>1</td>\n",
              "      <td>1</td>\n",
              "      <td>1</td>\n",
              "      <td>1</td>\n",
              "      <td>1</td>\n",
              "      <td>1</td>\n",
              "      <td>1</td>\n",
              "    </tr>\n",
              "    <tr>\n",
              "      <th>ct_dst_sport_ltm</th>\n",
              "      <td>1</td>\n",
              "      <td>1</td>\n",
              "      <td>1</td>\n",
              "      <td>1</td>\n",
              "      <td>1</td>\n",
              "      <td>1</td>\n",
              "      <td>1</td>\n",
              "      <td>1</td>\n",
              "    </tr>\n",
              "    <tr>\n",
              "      <th>ct_dst_src_ltm</th>\n",
              "      <td>1</td>\n",
              "      <td>1</td>\n",
              "      <td>1</td>\n",
              "      <td>26</td>\n",
              "      <td>1</td>\n",
              "      <td>1</td>\n",
              "      <td>1</td>\n",
              "      <td>1</td>\n",
              "    </tr>\n",
              "    <tr>\n",
              "      <th>attack_cat</th>\n",
              "      <td>Not_Effected</td>\n",
              "      <td>Not_Effected</td>\n",
              "      <td>Not_Effected</td>\n",
              "      <td>Not_Effected</td>\n",
              "      <td>Shellcode</td>\n",
              "      <td>Reconnaissance</td>\n",
              "      <td>Reconnaissance</td>\n",
              "      <td>Generic</td>\n",
              "    </tr>\n",
              "    <tr>\n",
              "      <th>Label</th>\n",
              "      <td>0</td>\n",
              "      <td>0</td>\n",
              "      <td>0</td>\n",
              "      <td>0</td>\n",
              "      <td>1</td>\n",
              "      <td>1</td>\n",
              "      <td>1</td>\n",
              "      <td>1</td>\n",
              "    </tr>\n",
              "  </tbody>\n",
              "</table>\n",
              "</div>"
            ],
            "text/plain": [
              "                             0             1  ...               6               7\n",
              "srcip              10.40.182.3   10.40.182.3  ...    175.45.176.0    175.45.176.0\n",
              "sport                        0             0  ...           65433           32910\n",
              "dstip              10.40.182.3   10.40.182.3  ...  149.171.126.15  149.171.126.17\n",
              "dsport                       0             0  ...             111            1813\n",
              "proto                      arp           arp  ...             udp             udp\n",
              "state                      INT           INT  ...             INT             INT\n",
              "dur                          0             0  ...           3e-06           3e-06\n",
              "sbytes                      46            46  ...             168             172\n",
              "dbytes                       0             0  ...               0               0\n",
              "sttl                         0             0  ...             254             254\n",
              "dttl                         0             0  ...               0               0\n",
              "sloss                        0             0  ...               0               0\n",
              "dloss                        0             0  ...               0               0\n",
              "service                      -             -  ...               -               -\n",
              "Sload                        0             0  ...        2.24e+08     2.29333e+08\n",
              "Dload                        0             0  ...               0               0\n",
              "Spkts                        1             1  ...               2               2\n",
              "Dpkts                        0             0  ...               0               0\n",
              "swin                         0             0  ...               0               0\n",
              "dwin                         0             0  ...               0               0\n",
              "stcpb                        0             0  ...               0               0\n",
              "dtcpb                        0             0  ...               0               0\n",
              "smeansz                     46            46  ...              84              86\n",
              "dmeansz                      0             0  ...               0               0\n",
              "trans_depth                  0             0  ...               0               0\n",
              "res_bdy_len                  0             0  ...               0               0\n",
              "Sjit                   10.9545             0  ...               0               0\n",
              "Djit                         0             0  ...               0               0\n",
              "Stime               1424220371    1424228291  ...      1424231235      1424226559\n",
              "Ltime               1424220371    1424228291  ...      1424231235      1424226559\n",
              "Sintpkt                60000.7       60000.7  ...           0.003           0.003\n",
              "Dintpkt                      0             0  ...               0               0\n",
              "tcprtt                       0             0  ...               0               0\n",
              "synack                       0             0  ...               0               0\n",
              "ackdat                       0             0  ...               0               0\n",
              "is_sm_ips_ports              1             1  ...               0               0\n",
              "ct_state_ttl                 2             2  ...               2               2\n",
              "ct_flw_http_mthd             0             0  ...               0               0\n",
              "is_ftp_login                 0             0  ...               0               0\n",
              "ct_ftp_cmd                   0             0  ...               0               0\n",
              "ct_srv_src                   1             1  ...               9               2\n",
              "ct_srv_dst                   1             1  ...               1               1\n",
              "ct_dst_ltm                   1             1  ...               1               1\n",
              "ct_src_ ltm                  1             1  ...               5               1\n",
              "ct_src_dport_ltm             1             1  ...               1               1\n",
              "ct_dst_sport_ltm             1             1  ...               1               1\n",
              "ct_dst_src_ltm               1             1  ...               1               1\n",
              "attack_cat        Not_Effected  Not_Effected  ...  Reconnaissance         Generic\n",
              "Label                        0             0  ...               1               1\n",
              "\n",
              "[49 rows x 8 columns]"
            ]
          },
          "metadata": {
            "tags": []
          },
          "execution_count": 17
        }
      ]
    },
    {
      "cell_type": "code",
      "metadata": {
        "colab": {
          "base_uri": "https://localhost:8080/"
        },
        "id": "kEunVPc4dOVD",
        "outputId": "9fc6793d-2f65-4468-da4f-f7a150237b3c"
      },
      "source": [
        "df3.groupBy(\"attack_cat\").count().show()"
      ],
      "execution_count": null,
      "outputs": [
        {
          "output_type": "stream",
          "text": [
            "+--------------+-------+\n",
            "|    attack_cat|  count|\n",
            "+--------------+-------+\n",
            "|         Worms|    171|\n",
            "|     Shellcode|   1511|\n",
            "|       Fuzzers|  21795|\n",
            "|      Analysis|   2184|\n",
            "|           DoS|   5665|\n",
            "|Reconnaissance|  13357|\n",
            "|      Backdoor|   1983|\n",
            "|      Exploits|  27599|\n",
            "|  Not_Effected|1959471|\n",
            "|       Generic|  25378|\n",
            "+--------------+-------+\n",
            "\n"
          ],
          "name": "stdout"
        }
      ]
    },
    {
      "cell_type": "code",
      "metadata": {
        "colab": {
          "base_uri": "https://localhost:8080/"
        },
        "id": "JytVtc-FdOnA",
        "outputId": "9ac84245-1aa7-4ff1-c7b5-9eba633e5410"
      },
      "source": [
        "df3.filter( (df3.attack_cat  == \"Not_Effected\") & (df3.Label  == \"1\") ).show(10)  "
      ],
      "execution_count": null,
      "outputs": [
        {
          "output_type": "stream",
          "text": [
            "+-----+-----+-----+------+-----+-----+---+------+------+----+----+-----+-----+-------+-----+-----+-----+-----+----+----+-----+-----+-------+-------+-----------+-----------+----+----+-----+-----+-------+-------+------+------+------+---------------+------------+----------------+------------+----------+----------+----------+----------+-----------+----------------+----------------+--------------+----------+-----+\n",
            "|srcip|sport|dstip|dsport|proto|state|dur|sbytes|dbytes|sttl|dttl|sloss|dloss|service|Sload|Dload|Spkts|Dpkts|swin|dwin|stcpb|dtcpb|smeansz|dmeansz|trans_depth|res_bdy_len|Sjit|Djit|Stime|Ltime|Sintpkt|Dintpkt|tcprtt|synack|ackdat|is_sm_ips_ports|ct_state_ttl|ct_flw_http_mthd|is_ftp_login|ct_ftp_cmd|ct_srv_src|ct_srv_dst|ct_dst_ltm|ct_src_ ltm|ct_src_dport_ltm|ct_dst_sport_ltm|ct_dst_src_ltm|attack_cat|Label|\n",
            "+-----+-----+-----+------+-----+-----+---+------+------+----+----+-----+-----+-------+-----+-----+-----+-----+----+----+-----+-----+-------+-------+-----------+-----------+----+----+-----+-----+-------+-------+------+------+------+---------------+------------+----------------+------------+----------+----------+----------+----------+-----------+----------------+----------------+--------------+----------+-----+\n",
            "+-----+-----+-----+------+-----+-----+---+------+------+----+----+-----+-----+-------+-----+-----+-----+-----+----+----+-----+-----+-------+-------+-----------+-----------+----+----+-----+-----+-------+-------+------+------+------+---------------+------------+----------------+------------+----------+----------+----------+----------+-----------+----------------+----------------+--------------+----------+-----+\n",
            "\n"
          ],
          "name": "stdout"
        }
      ]
    },
    {
      "cell_type": "code",
      "metadata": {
        "colab": {
          "base_uri": "https://localhost:8080/"
        },
        "id": "WGBIsOfzeBek",
        "outputId": "6e465ead-aa3d-4e88-da3f-880677dc1521"
      },
      "source": [
        "#Filter multiple condition\n",
        "df4 = df3.filter( (df3.attack_cat  == \"Not_Effected\") & (df3.Label  == \"0\") )\n",
        "\n",
        "df4.count()"
      ],
      "execution_count": null,
      "outputs": [
        {
          "output_type": "execute_result",
          "data": {
            "text/plain": [
              "1959471"
            ]
          },
          "metadata": {
            "tags": []
          },
          "execution_count": 23
        }
      ]
    },
    {
      "cell_type": "code",
      "metadata": {
        "colab": {
          "base_uri": "https://localhost:8080/"
        },
        "id": "rlxGv3abeBn_",
        "outputId": "15d92381-f1e2-4ad0-ec0a-eddc2d8fa2e8"
      },
      "source": [
        "df3.groupBy(\"Label\").count().show()"
      ],
      "execution_count": null,
      "outputs": [
        {
          "output_type": "stream",
          "text": [
            "+-----+-------+\n",
            "|Label|  count|\n",
            "+-----+-------+\n",
            "|    1|  99643|\n",
            "|    0|1959471|\n",
            "+-----+-------+\n",
            "\n"
          ],
          "name": "stdout"
        }
      ]
    },
    {
      "cell_type": "markdown",
      "metadata": {
        "id": "mgkQcCJ4gHb6"
      },
      "source": [
        "By considering above analysis, we can get to know all null values in the attack_cat column are not effected by any attack. "
      ]
    },
    {
      "cell_type": "code",
      "metadata": {
        "colab": {
          "base_uri": "https://localhost:8080/",
          "height": 1000
        },
        "id": "-5Ji9-IKv-W3",
        "outputId": "d9d263d0-27bf-46a4-8c98-3c17f8de66ea"
      },
      "source": [
        "numeric_features = [t[0] for t in dfTE.dtypes if t[1] == 'int']\n",
        "dfTE.select(numeric_features).describe().toPandas().transpose()\n",
        "\n"
      ],
      "execution_count": null,
      "outputs": [
        {
          "output_type": "execute_result",
          "data": {
            "text/html": [
              "<div>\n",
              "<style scoped>\n",
              "    .dataframe tbody tr th:only-of-type {\n",
              "        vertical-align: middle;\n",
              "    }\n",
              "\n",
              "    .dataframe tbody tr th {\n",
              "        vertical-align: top;\n",
              "    }\n",
              "\n",
              "    .dataframe thead th {\n",
              "        text-align: right;\n",
              "    }\n",
              "</style>\n",
              "<table border=\"1\" class=\"dataframe\">\n",
              "  <thead>\n",
              "    <tr style=\"text-align: right;\">\n",
              "      <th></th>\n",
              "      <th>0</th>\n",
              "      <th>1</th>\n",
              "      <th>2</th>\n",
              "      <th>3</th>\n",
              "      <th>4</th>\n",
              "    </tr>\n",
              "  </thead>\n",
              "  <tbody>\n",
              "    <tr>\n",
              "      <th>summary</th>\n",
              "      <td>count</td>\n",
              "      <td>mean</td>\n",
              "      <td>stddev</td>\n",
              "      <td>min</td>\n",
              "      <td>max</td>\n",
              "    </tr>\n",
              "    <tr>\n",
              "      <th>sport</th>\n",
              "      <td>2539738</td>\n",
              "      <td>30536.92077804876</td>\n",
              "      <td>20441.2142160254</td>\n",
              "      <td>0</td>\n",
              "      <td>65535</td>\n",
              "    </tr>\n",
              "    <tr>\n",
              "      <th>dsport</th>\n",
              "      <td>2539738</td>\n",
              "      <td>11235.101156103503</td>\n",
              "      <td>18438.20315203261</td>\n",
              "      <td>0</td>\n",
              "      <td>65535</td>\n",
              "    </tr>\n",
              "    <tr>\n",
              "      <th>sbytes</th>\n",
              "      <td>2539738</td>\n",
              "      <td>4340.070896289302</td>\n",
              "      <td>56409.409186153316</td>\n",
              "      <td>0</td>\n",
              "      <td>14355774</td>\n",
              "    </tr>\n",
              "    <tr>\n",
              "      <th>dbytes</th>\n",
              "      <td>2539738</td>\n",
              "      <td>36432.01927679154</td>\n",
              "      <td>161105.33522674238</td>\n",
              "      <td>0</td>\n",
              "      <td>14657531</td>\n",
              "    </tr>\n",
              "    <tr>\n",
              "      <th>sttl</th>\n",
              "      <td>2539738</td>\n",
              "      <td>62.78151053376372</td>\n",
              "      <td>74.6267115956767</td>\n",
              "      <td>0</td>\n",
              "      <td>255</td>\n",
              "    </tr>\n",
              "    <tr>\n",
              "      <th>dttl</th>\n",
              "      <td>2539738</td>\n",
              "      <td>30.770441675479912</td>\n",
              "      <td>42.851930611408726</td>\n",
              "      <td>0</td>\n",
              "      <td>254</td>\n",
              "    </tr>\n",
              "    <tr>\n",
              "      <th>sloss</th>\n",
              "      <td>2539738</td>\n",
              "      <td>5.164537444413558</td>\n",
              "      <td>22.5183674285243</td>\n",
              "      <td>0</td>\n",
              "      <td>5319</td>\n",
              "    </tr>\n",
              "    <tr>\n",
              "      <th>dloss</th>\n",
              "      <td>2539738</td>\n",
              "      <td>16.331417650167065</td>\n",
              "      <td>56.597900641709714</td>\n",
              "      <td>0</td>\n",
              "      <td>5507</td>\n",
              "    </tr>\n",
              "    <tr>\n",
              "      <th>Spkts</th>\n",
              "      <td>2539738</td>\n",
              "      <td>33.29253293056213</td>\n",
              "      <td>76.28775056857421</td>\n",
              "      <td>0</td>\n",
              "      <td>10646</td>\n",
              "    </tr>\n",
              "    <tr>\n",
              "      <th>Dpkts</th>\n",
              "      <td>2539738</td>\n",
              "      <td>42.73178886956056</td>\n",
              "      <td>121.50843273453061</td>\n",
              "      <td>0</td>\n",
              "      <td>11018</td>\n",
              "    </tr>\n",
              "    <tr>\n",
              "      <th>swin</th>\n",
              "      <td>2539738</td>\n",
              "      <td>150.1069094528648</td>\n",
              "      <td>125.47913866279724</td>\n",
              "      <td>0</td>\n",
              "      <td>255</td>\n",
              "    </tr>\n",
              "    <tr>\n",
              "      <th>dwin</th>\n",
              "      <td>2539738</td>\n",
              "      <td>149.76400203485557</td>\n",
              "      <td>125.5406292743381</td>\n",
              "      <td>0</td>\n",
              "      <td>255</td>\n",
              "    </tr>\n",
              "    <tr>\n",
              "      <th>smeansz</th>\n",
              "      <td>2539738</td>\n",
              "      <td>124.25272961226709</td>\n",
              "      <td>151.92111292712218</td>\n",
              "      <td>0</td>\n",
              "      <td>1504</td>\n",
              "    </tr>\n",
              "    <tr>\n",
              "      <th>dmeansz</th>\n",
              "      <td>2539738</td>\n",
              "      <td>276.7054900938601</td>\n",
              "      <td>335.6232182905606</td>\n",
              "      <td>0</td>\n",
              "      <td>1500</td>\n",
              "    </tr>\n",
              "    <tr>\n",
              "      <th>trans_depth</th>\n",
              "      <td>2539738</td>\n",
              "      <td>0.08326331298740264</td>\n",
              "      <td>0.3500246217579828</td>\n",
              "      <td>0</td>\n",
              "      <td>172</td>\n",
              "    </tr>\n",
              "    <tr>\n",
              "      <th>res_bdy_len</th>\n",
              "      <td>2539738</td>\n",
              "      <td>4242.633935075193</td>\n",
              "      <td>47503.3924305972</td>\n",
              "      <td>0</td>\n",
              "      <td>6558056</td>\n",
              "    </tr>\n",
              "    <tr>\n",
              "      <th>Stime</th>\n",
              "      <td>2539738</td>\n",
              "      <td>1.4232606954182885E9</td>\n",
              "      <td>1134456.398271584</td>\n",
              "      <td>1421927377</td>\n",
              "      <td>1424262068</td>\n",
              "    </tr>\n",
              "    <tr>\n",
              "      <th>Ltime</th>\n",
              "      <td>2539738</td>\n",
              "      <td>1.4232606961823573E9</td>\n",
              "      <td>1134456.1994365489</td>\n",
              "      <td>1421927414</td>\n",
              "      <td>1424262069</td>\n",
              "    </tr>\n",
              "    <tr>\n",
              "      <th>is_sm_ips_ports</th>\n",
              "      <td>2539738</td>\n",
              "      <td>0.0016517451800146315</td>\n",
              "      <td>0.040608097310282906</td>\n",
              "      <td>0</td>\n",
              "      <td>1</td>\n",
              "    </tr>\n",
              "    <tr>\n",
              "      <th>ct_state_ttl</th>\n",
              "      <td>2539738</td>\n",
              "      <td>0.2611848151265997</td>\n",
              "      <td>0.6831311472052901</td>\n",
              "      <td>0</td>\n",
              "      <td>6</td>\n",
              "    </tr>\n",
              "    <tr>\n",
              "      <th>ct_flw_http_mthd</th>\n",
              "      <td>2539738</td>\n",
              "      <td>0.11009127713173564</td>\n",
              "      <td>0.5564519857631656</td>\n",
              "      <td>0</td>\n",
              "      <td>36</td>\n",
              "    </tr>\n",
              "    <tr>\n",
              "      <th>is_ftp_login</th>\n",
              "      <td>2539738</td>\n",
              "      <td>0.01735336479589627</td>\n",
              "      <td>0.1334651300073534</td>\n",
              "      <td>0</td>\n",
              "      <td>4</td>\n",
              "    </tr>\n",
              "    <tr>\n",
              "      <th>ct_ftp_cmd</th>\n",
              "      <td>2539738</td>\n",
              "      <td>0.02056038851251586</td>\n",
              "      <td>0.18437307896272334</td>\n",
              "      <td>0</td>\n",
              "      <td>8</td>\n",
              "    </tr>\n",
              "    <tr>\n",
              "      <th>ct_srv_src</th>\n",
              "      <td>2539738</td>\n",
              "      <td>9.207914753411572</td>\n",
              "      <td>10.837082138457902</td>\n",
              "      <td>1</td>\n",
              "      <td>67</td>\n",
              "    </tr>\n",
              "    <tr>\n",
              "      <th>ct_srv_dst</th>\n",
              "      <td>2539738</td>\n",
              "      <td>8.989883602166838</td>\n",
              "      <td>10.8228155248316</td>\n",
              "      <td>1</td>\n",
              "      <td>67</td>\n",
              "    </tr>\n",
              "    <tr>\n",
              "      <th>ct_dst_ltm</th>\n",
              "      <td>2539738</td>\n",
              "      <td>6.439729216163242</td>\n",
              "      <td>8.162330818423717</td>\n",
              "      <td>1</td>\n",
              "      <td>67</td>\n",
              "    </tr>\n",
              "    <tr>\n",
              "      <th>ct_src_ ltm</th>\n",
              "      <td>2539738</td>\n",
              "      <td>6.9016414291552906</td>\n",
              "      <td>8.205341588998511</td>\n",
              "      <td>1</td>\n",
              "      <td>67</td>\n",
              "    </tr>\n",
              "    <tr>\n",
              "      <th>ct_src_dport_ltm</th>\n",
              "      <td>2539738</td>\n",
              "      <td>4.64257336780408</td>\n",
              "      <td>8.478002484253906</td>\n",
              "      <td>1</td>\n",
              "      <td>67</td>\n",
              "    </tr>\n",
              "    <tr>\n",
              "      <th>ct_dst_sport_ltm</th>\n",
              "      <td>2539738</td>\n",
              "      <td>3.5930328246456917</td>\n",
              "      <td>6.174758638136071</td>\n",
              "      <td>1</td>\n",
              "      <td>60</td>\n",
              "    </tr>\n",
              "    <tr>\n",
              "      <th>ct_dst_src_ltm</th>\n",
              "      <td>2539738</td>\n",
              "      <td>6.84655976325117</td>\n",
              "      <td>11.258799405143707</td>\n",
              "      <td>1</td>\n",
              "      <td>67</td>\n",
              "    </tr>\n",
              "    <tr>\n",
              "      <th>Label</th>\n",
              "      <td>2539738</td>\n",
              "      <td>0.12650241875343046</td>\n",
              "      <td>0.33241480158264386</td>\n",
              "      <td>0</td>\n",
              "      <td>1</td>\n",
              "    </tr>\n",
              "  </tbody>\n",
              "</table>\n",
              "</div>"
            ],
            "text/plain": [
              "                        0                      1  ...           3           4\n",
              "summary             count                   mean  ...         min         max\n",
              "sport             2539738      30536.92077804876  ...           0       65535\n",
              "dsport            2539738     11235.101156103503  ...           0       65535\n",
              "sbytes            2539738      4340.070896289302  ...           0    14355774\n",
              "dbytes            2539738      36432.01927679154  ...           0    14657531\n",
              "sttl              2539738      62.78151053376372  ...           0         255\n",
              "dttl              2539738     30.770441675479912  ...           0         254\n",
              "sloss             2539738      5.164537444413558  ...           0        5319\n",
              "dloss             2539738     16.331417650167065  ...           0        5507\n",
              "Spkts             2539738      33.29253293056213  ...           0       10646\n",
              "Dpkts             2539738      42.73178886956056  ...           0       11018\n",
              "swin              2539738      150.1069094528648  ...           0         255\n",
              "dwin              2539738     149.76400203485557  ...           0         255\n",
              "smeansz           2539738     124.25272961226709  ...           0        1504\n",
              "dmeansz           2539738      276.7054900938601  ...           0        1500\n",
              "trans_depth       2539738    0.08326331298740264  ...           0         172\n",
              "res_bdy_len       2539738      4242.633935075193  ...           0     6558056\n",
              "Stime             2539738   1.4232606954182885E9  ...  1421927377  1424262068\n",
              "Ltime             2539738   1.4232606961823573E9  ...  1421927414  1424262069\n",
              "is_sm_ips_ports   2539738  0.0016517451800146315  ...           0           1\n",
              "ct_state_ttl      2539738     0.2611848151265997  ...           0           6\n",
              "ct_flw_http_mthd  2539738    0.11009127713173564  ...           0          36\n",
              "is_ftp_login      2539738    0.01735336479589627  ...           0           4\n",
              "ct_ftp_cmd        2539738    0.02056038851251586  ...           0           8\n",
              "ct_srv_src        2539738      9.207914753411572  ...           1          67\n",
              "ct_srv_dst        2539738      8.989883602166838  ...           1          67\n",
              "ct_dst_ltm        2539738      6.439729216163242  ...           1          67\n",
              "ct_src_ ltm       2539738     6.9016414291552906  ...           1          67\n",
              "ct_src_dport_ltm  2539738       4.64257336780408  ...           1          67\n",
              "ct_dst_sport_ltm  2539738     3.5930328246456917  ...           1          60\n",
              "ct_dst_src_ltm    2539738       6.84655976325117  ...           1          67\n",
              "Label             2539738    0.12650241875343046  ...           0           1\n",
              "\n",
              "[32 rows x 5 columns]"
            ]
          },
          "metadata": {
            "tags": []
          },
          "execution_count": 25
        }
      ]
    },
    {
      "cell_type": "markdown",
      "metadata": {
        "id": "nAiyfiNghEgF"
      },
      "source": [
        "Adding a new column to the dataframe having attack_cat column values to numaric conversition"
      ]
    },
    {
      "cell_type": "code",
      "metadata": {
        "id": "THKI4tneeBwy"
      },
      "source": [
        "from pyspark.ml.feature import StringIndexer\n",
        "l_indexer = StringIndexer(inputCol=\"attack_cat\", outputCol=\"Numaric_attack_cat\")\n",
        "df5 = l_indexer.fit(df3).transform(df3)"
      ],
      "execution_count": null,
      "outputs": []
    },
    {
      "cell_type": "code",
      "metadata": {
        "colab": {
          "base_uri": "https://localhost:8080/"
        },
        "id": "K93XER03mF_C",
        "outputId": "45ee937a-705f-4c90-b388-efb210b2bd67"
      },
      "source": [
        "df5.agg(countDistinct(col(\"attack_cat\")).alias(\"count\")).show()\n",
        "\n",
        "df5.agg(countDistinct(col(\"Numaric_attack_cat\")).alias(\"count\")).show()\n",
        "\n",
        "df5.groupBy(\"attack_cat\").count().show()\n",
        "\n",
        "df5.groupBy(\"Numaric_attack_cat\").count().show()\n"
      ],
      "execution_count": null,
      "outputs": [
        {
          "output_type": "stream",
          "text": [
            "+-----+\n",
            "|count|\n",
            "+-----+\n",
            "|   10|\n",
            "+-----+\n",
            "\n",
            "+-----+\n",
            "|count|\n",
            "+-----+\n",
            "|   10|\n",
            "+-----+\n",
            "\n",
            "+--------------+-------+\n",
            "|    attack_cat|  count|\n",
            "+--------------+-------+\n",
            "|         Worms|    171|\n",
            "|     Shellcode|   1511|\n",
            "|       Fuzzers|  21795|\n",
            "|      Analysis|   2184|\n",
            "|           DoS|   5665|\n",
            "|Reconnaissance|  13357|\n",
            "|      Backdoor|   1983|\n",
            "|      Exploits|  27599|\n",
            "|  Not_Effected|1959471|\n",
            "|       Generic|  25378|\n",
            "+--------------+-------+\n",
            "\n",
            "+------------------+-------+\n",
            "|Numaric_attack_cat|  count|\n",
            "+------------------+-------+\n",
            "|               8.0|   1511|\n",
            "|               0.0|1959471|\n",
            "|               7.0|   1983|\n",
            "|               1.0|  27599|\n",
            "|               4.0|  13357|\n",
            "|               3.0|  21795|\n",
            "|               2.0|  25378|\n",
            "|               6.0|   2184|\n",
            "|               5.0|   5665|\n",
            "|               9.0|    171|\n",
            "+------------------+-------+\n",
            "\n"
          ],
          "name": "stdout"
        }
      ]
    },
    {
      "cell_type": "code",
      "metadata": {
        "colab": {
          "base_uri": "https://localhost:8080/"
        },
        "id": "2Ea0M_XphEKM",
        "outputId": "f75af2f0-1bfd-480e-940e-7a68d4723e00"
      },
      "source": [
        "df5.printSchema()"
      ],
      "execution_count": null,
      "outputs": [
        {
          "output_type": "stream",
          "text": [
            "root\n",
            " |-- srcip: string (nullable = true)\n",
            " |-- sport: integer (nullable = true)\n",
            " |-- dstip: string (nullable = true)\n",
            " |-- dsport: integer (nullable = true)\n",
            " |-- proto: string (nullable = true)\n",
            " |-- state: string (nullable = true)\n",
            " |-- dur: double (nullable = true)\n",
            " |-- sbytes: integer (nullable = true)\n",
            " |-- dbytes: integer (nullable = true)\n",
            " |-- sttl: integer (nullable = true)\n",
            " |-- dttl: integer (nullable = true)\n",
            " |-- sloss: integer (nullable = true)\n",
            " |-- dloss: integer (nullable = true)\n",
            " |-- service: string (nullable = true)\n",
            " |-- Sload: double (nullable = true)\n",
            " |-- Dload: double (nullable = true)\n",
            " |-- Spkts: integer (nullable = true)\n",
            " |-- Dpkts: integer (nullable = true)\n",
            " |-- swin: integer (nullable = true)\n",
            " |-- dwin: integer (nullable = true)\n",
            " |-- stcpb: long (nullable = true)\n",
            " |-- dtcpb: long (nullable = true)\n",
            " |-- smeansz: integer (nullable = true)\n",
            " |-- dmeansz: integer (nullable = true)\n",
            " |-- trans_depth: integer (nullable = true)\n",
            " |-- res_bdy_len: integer (nullable = true)\n",
            " |-- Sjit: double (nullable = true)\n",
            " |-- Djit: double (nullable = true)\n",
            " |-- Stime: integer (nullable = true)\n",
            " |-- Ltime: integer (nullable = true)\n",
            " |-- Sintpkt: double (nullable = true)\n",
            " |-- Dintpkt: double (nullable = true)\n",
            " |-- tcprtt: double (nullable = true)\n",
            " |-- synack: double (nullable = true)\n",
            " |-- ackdat: double (nullable = true)\n",
            " |-- is_sm_ips_ports: integer (nullable = true)\n",
            " |-- ct_state_ttl: integer (nullable = true)\n",
            " |-- ct_flw_http_mthd: integer (nullable = true)\n",
            " |-- is_ftp_login: integer (nullable = true)\n",
            " |-- ct_ftp_cmd: integer (nullable = true)\n",
            " |-- ct_srv_src: integer (nullable = true)\n",
            " |-- ct_srv_dst: integer (nullable = true)\n",
            " |-- ct_dst_ltm: integer (nullable = true)\n",
            " |-- ct_src_ ltm: integer (nullable = true)\n",
            " |-- ct_src_dport_ltm: integer (nullable = true)\n",
            " |-- ct_dst_sport_ltm: integer (nullable = true)\n",
            " |-- ct_dst_src_ltm: integer (nullable = true)\n",
            " |-- attack_cat: string (nullable = true)\n",
            " |-- Label: integer (nullable = true)\n",
            " |-- Numaric_attack_cat: double (nullable = false)\n",
            "\n"
          ],
          "name": "stdout"
        }
      ]
    },
    {
      "cell_type": "code",
      "metadata": {
        "colab": {
          "base_uri": "https://localhost:8080/"
        },
        "id": "G6RggeeKv-cD",
        "outputId": "d66d8678-6f8c-4dc5-c2d5-dcd052e9e860"
      },
      "source": [
        "import six\n",
        "\n",
        "for i in df5.select(numeric_features).columns:\n",
        "    if not( isinstance(df5.select(i).take(1)[0][0], six.string_types)):\n",
        "        print( \"Correlation to Label for \", i, df5.stat.corr('Label',i))"
      ],
      "execution_count": null,
      "outputs": [
        {
          "output_type": "stream",
          "text": [
            "Correlation to Label for  sport -0.05401342535587188\n",
            "Correlation to Label for  dsport -0.13686404150853598\n",
            "Correlation to Label for  sbytes 0.045681546946771\n",
            "Correlation to Label for  dbytes -0.03740372377978368\n",
            "Correlation to Label for  sttl 0.7659793823575981\n",
            "Correlation to Label for  dttl 0.5221387237308709\n",
            "Correlation to Label for  sloss 0.017917108446613123\n",
            "Correlation to Label for  dloss -0.04774416849621018\n",
            "Correlation to Label for  Spkts -0.04532627071777845\n",
            "Correlation to Label for  Dpkts -0.05744272549341605\n",
            "Correlation to Label for  swin -0.07886551484776477\n",
            "Correlation to Label for  dwin -0.07803692228229513\n",
            "Correlation to Label for  smeansz 0.05692127326749956\n",
            "Correlation to Label for  dmeansz -0.1465341649462821\n",
            "Correlation to Label for  trans_depth 0.046452080784387305\n",
            "Correlation to Label for  res_bdy_len -0.010822369502278554\n",
            "Correlation to Label for  Stime 0.15893077863542496\n",
            "Correlation to Label for  Ltime 0.1589309011062609\n",
            "Correlation to Label for  is_sm_ips_ports -0.008232989250973592\n",
            "Correlation to Label for  ct_state_ttl 0.6848951082327641\n",
            "Correlation to Label for  ct_flw_http_mthd 0.03189308772362108\n",
            "Correlation to Label for  is_ftp_login -0.01376885019443387\n",
            "Correlation to Label for  ct_ftp_cmd -0.013718071711285668\n",
            "Correlation to Label for  ct_srv_src 0.10239613173432441\n",
            "Correlation to Label for  ct_srv_dst 0.10076678676669092\n",
            "Correlation to Label for  ct_dst_ltm 0.055865203729425925\n",
            "Correlation to Label for  ct_src_ ltm 0.0704479489183341\n",
            "Correlation to Label for  ct_src_dport_ltm 0.21169572401206374\n",
            "Correlation to Label for  ct_dst_sport_ltm 0.24580444123463946\n",
            "Correlation to Label for  ct_dst_src_ltm 0.24337483436627\n",
            "Correlation to Label for  Label 1.0\n"
          ],
          "name": "stdout"
        }
      ]
    },
    {
      "cell_type": "markdown",
      "metadata": {
        "id": "3XjuUx_Iokgq"
      },
      "source": [
        "So far we did Data preprocessing / Data cleaning which is common for both Binary Classification and Multi class classification models and feature selection based on above correlation we have selected 24 top correlation (both +ve and -ve) as input to feature column to the **Binary Classification** model.  "
      ]
    },
    {
      "cell_type": "code",
      "metadata": {
        "colab": {
          "base_uri": "https://localhost:8080/"
        },
        "id": "y-imZ51_v-eJ",
        "outputId": "ae0adba7-557e-40e7-8684-0396a07468f0"
      },
      "source": [
        "from pyspark.ml.feature import VectorAssembler\n",
        "vectorAssembler = VectorAssembler(inputCols = ['synack', 'tcprtt', 'Ltime', 'Stime','dmeansz', 'dwin', 'swin', 'Dpkts','ct_dst_src_ltm','Spkts','Dload','Sload','dttl','sttl','dsport','sport','ct_src_dport_ltm', 'ct_src_ ltm', 'ct_dst_ltm', 'ct_srv_dst', 'ct_srv_src', 'ct_state_ttl', 'ackdat','Numaric_attack_cat'], outputCol = 'features')\n",
        "\n",
        "vdf = vectorAssembler.transform(df5)\n",
        "vdf = vdf.select(['features', 'Label'])\n",
        "vdf.show(5)  "
      ],
      "execution_count": null,
      "outputs": [
        {
          "output_type": "stream",
          "text": [
            "+--------------------+-----+\n",
            "|            features|Label|\n",
            "+--------------------+-----+\n",
            "|(24,[2,3,8,9,16,1...|    0|\n",
            "|(24,[2,3,8,9,16,1...|    0|\n",
            "|(24,[2,3,8,9,16,1...|    0|\n",
            "|(24,[2,3,8,9,11,1...|    0|\n",
            "|[0.0,0.0,1.424227...|    1|\n",
            "+--------------------+-----+\n",
            "only showing top 5 rows\n",
            "\n"
          ],
          "name": "stdout"
        }
      ]
    },
    {
      "cell_type": "code",
      "metadata": {
        "colab": {
          "base_uri": "https://localhost:8080/"
        },
        "id": "LXz-6UPkx-YX",
        "outputId": "038d45f1-45cc-46b3-cb3b-71c10ab77e11"
      },
      "source": [
        "splits = vdf.randomSplit([0.7, 0.3])\n",
        "train_df = splits[0]\n",
        "test_df = splits[1]\n",
        "\n",
        "print(\"Training Dataset Count: \" + str(train_df.count()))\n",
        "print(\"Test Dataset Count: \" + str(test_df.count()))"
      ],
      "execution_count": null,
      "outputs": [
        {
          "output_type": "stream",
          "text": [
            "Training Dataset Count: 1441023\n",
            "Test Dataset Count: 618091\n"
          ],
          "name": "stdout"
        }
      ]
    },
    {
      "cell_type": "markdown",
      "metadata": {
        "id": "iV7uWDiDptku"
      },
      "source": [
        "# **Binary Classification**"
      ]
    },
    {
      "cell_type": "markdown",
      "metadata": {
        "id": "lvootoQoy8QD"
      },
      "source": [
        "##**LogisticRegression**"
      ]
    },
    {
      "cell_type": "code",
      "metadata": {
        "id": "ozlc2Axtx-l-"
      },
      "source": [
        "from pyspark.ml.classification import LogisticRegression\n",
        "lr = LogisticRegression(featuresCol = 'features', labelCol = 'Label', maxIter=10)\n",
        "lrModel = lr.fit(train_df)\n"
      ],
      "execution_count": null,
      "outputs": []
    },
    {
      "cell_type": "code",
      "metadata": {
        "colab": {
          "base_uri": "https://localhost:8080/",
          "height": 265
        },
        "id": "NEsknEGnx-wH",
        "outputId": "caa98753-ee69-45ed-a622-d81bd233e97a"
      },
      "source": [
        "import matplotlib.pyplot as plt\n",
        "import numpy as np\n",
        "beta = np.sort(lrModel.coefficients)\n",
        "plt.plot(beta)\n",
        "plt.ylabel('Beta Coefficients')\n",
        "plt.show()"
      ],
      "execution_count": null,
      "outputs": [
        {
          "output_type": "display_data",
          "data": {
            "image/png": "[encoded data removed]",
            "text/plain": [
              "<Figure size 432x288 with 1 Axes>"
            ]
          },
          "metadata": {
            "tags": [],
            "needs_background": "light"
          }
        }
      ]
    },
    {
      "cell_type": "code",
      "metadata": {
        "colab": {
          "base_uri": "https://localhost:8080/",
          "height": 312
        },
        "id": "Yy70ftiux-3U",
        "outputId": "7e24a0fb-906d-40b3-890f-f904a101bb0d"
      },
      "source": [
        "trainingSummary = lrModel.summary\n",
        "roc = trainingSummary.roc.toPandas()\n",
        "plt.plot(roc['FPR'],roc['TPR'])\n",
        "plt.ylabel('False Positive Rate')\n",
        "plt.xlabel('True Positive Rate')\n",
        "plt.title('ROC Curve')\n",
        "plt.show()\n",
        "print('Training set areaUnderROC: ' + str(trainingSummary.areaUnderROC))"
      ],
      "execution_count": null,
      "outputs": [
        {
          "output_type": "display_data",
          "data": {
            "image/png": "[encoded data removed]",
            "text/plain": [
              "<Figure size 432x288 with 1 Axes>"
            ]
          },
          "metadata": {
            "tags": [],
            "needs_background": "light"
          }
        },
        {
          "output_type": "stream",
          "text": [
            "Training set areaUnderROC: 0.9934430243139536\n"
          ],
          "name": "stdout"
        }
      ]
    },
    {
      "cell_type": "code",
      "metadata": {
        "colab": {
          "base_uri": "https://localhost:8080/",
          "height": 279
        },
        "id": "z80bn-1Mv-iG",
        "outputId": "d679d1e7-55e0-4859-8faf-841b43c2e163"
      },
      "source": [
        "pr = trainingSummary.pr.toPandas()\n",
        "plt.plot(pr['recall'],pr['precision'])\n",
        "plt.ylabel('Precision')\n",
        "plt.xlabel('Recall')\n",
        "plt.show()"
      ],
      "execution_count": null,
      "outputs": [
        {
          "output_type": "display_data",
          "data": {
            "image/png": "[encoded data removed]",
            "text/plain": [
              "<Figure size 432x288 with 1 Axes>"
            ]
          },
          "metadata": {
            "tags": [],
            "needs_background": "light"
          }
        }
      ]
    },
    {
      "cell_type": "code",
      "metadata": {
        "colab": {
          "base_uri": "https://localhost:8080/"
        },
        "id": "gnLRo27jv-j5",
        "outputId": "3af27706-bbb3-4e51-96f9-836dec7c3581"
      },
      "source": [
        "predictions = lrModel.transform(test_df)\n",
        "predictions.select(\"prediction\",\"Label\",\"features\").show(10)\n"
      ],
      "execution_count": null,
      "outputs": [
        {
          "output_type": "stream",
          "text": [
            "+----------+-----+--------------------+\n",
            "|prediction|Label|            features|\n",
            "+----------+-----+--------------------+\n",
            "|       0.0|    0|(24,[2,3,4,7,8,9,...|\n",
            "|       0.0|    0|(24,[2,3,4,7,8,9,...|\n",
            "|       0.0|    0|(24,[2,3,4,7,8,9,...|\n",
            "|       0.0|    0|(24,[2,3,4,7,8,9,...|\n",
            "|       0.0|    0|(24,[2,3,4,7,8,9,...|\n",
            "|       0.0|    0|(24,[2,3,8,9,11,1...|\n",
            "|       0.0|    0|(24,[2,3,8,9,11,1...|\n",
            "|       0.0|    0|(24,[2,3,8,9,11,1...|\n",
            "|       0.0|    0|(24,[2,3,8,9,11,1...|\n",
            "|       0.0|    0|(24,[2,3,8,9,11,1...|\n",
            "+----------+-----+--------------------+\n",
            "only showing top 10 rows\n",
            "\n"
          ],
          "name": "stdout"
        }
      ]
    },
    {
      "cell_type": "code",
      "metadata": {
        "colab": {
          "base_uri": "https://localhost:8080/",
          "height": 312
        },
        "id": "6_VgZkOhv-p3",
        "outputId": "d9e5a0eb-5e1d-4477-c531-ebd998eece09"
      },
      "source": [
        "testingSummary = lrModel.summary\n",
        "roc = testingSummary.roc.toPandas()\n",
        "plt.plot(roc['FPR'],roc['TPR'])\n",
        "plt.ylabel('False Positive Rate')\n",
        "plt.xlabel('True Positive Rate')\n",
        "plt.title('ROC Curve')\n",
        "plt.show()\n",
        "print('Testing set areaUnderROC: ' + str(testingSummary.areaUnderROC))"
      ],
      "execution_count": null,
      "outputs": [
        {
          "output_type": "display_data",
          "data": {
            "image/png": "[encoded data removed]",
            "text/plain": [
              "<Figure size 432x288 with 1 Axes>"
            ]
          },
          "metadata": {
            "tags": [],
            "needs_background": "light"
          }
        },
        {
          "output_type": "stream",
          "text": [
            "Testing set areaUnderROC: 0.9934430243139536\n"
          ],
          "name": "stdout"
        }
      ]
    },
    {
      "cell_type": "code",
      "metadata": {
        "colab": {
          "base_uri": "https://localhost:8080/"
        },
        "id": "iPWfkyjlv-oA",
        "outputId": "bf079e99-c954-4c6d-ddcc-29727374543c"
      },
      "source": [
        "from pyspark.ml.evaluation import BinaryClassificationEvaluator\n",
        "\n",
        "evaluator = BinaryClassificationEvaluator().setMetricName('areaUnderROC').setLabelCol('Label').setRawPredictionCol('rawPrediction')\n",
        "print('Test Area Under ROC', evaluator.evaluate(predictions))\n",
        "\n"
      ],
      "execution_count": null,
      "outputs": [
        {
          "output_type": "stream",
          "text": [
            "Test Area Under ROC 0.9935169746309366\n"
          ],
          "name": "stdout"
        }
      ]
    },
    {
      "cell_type": "code",
      "metadata": {
        "colab": {
          "base_uri": "https://localhost:8080/"
        },
        "id": "MaXCxTCK7kBx",
        "outputId": "edc33af9-f883-4623-fbc2-00e232a47a71"
      },
      "source": [
        "from pyspark.ml.evaluation import MulticlassClassificationEvaluator\n",
        "\n",
        "\n",
        "evaluator = MulticlassClassificationEvaluator().setMetricName('accuracy').setLabelCol('Label')\n",
        "accuracy = evaluator.evaluate(predictions)\n",
        "\n",
        "print(\"Accuracy of the logisticRegression Classification Model =\", accuracy) \n",
        "print(\"Test Error of logisticRegression Classification Model  = %g\" % (1.0 - accuracy))"
      ],
      "execution_count": null,
      "outputs": [
        {
          "output_type": "stream",
          "text": [
            "Accuracy of the logisticRegression Classification Model = 0.9520038311510765\n",
            "Test Error of logisticRegression Classification Model  = 0.0479962\n"
          ],
          "name": "stdout"
        }
      ]
    },
    {
      "cell_type": "markdown",
      "metadata": {
        "id": "7wOViExf6p_h"
      },
      "source": [
        "# **Decision Tree Classifier** "
      ]
    },
    {
      "cell_type": "code",
      "metadata": {
        "colab": {
          "base_uri": "https://localhost:8080/"
        },
        "id": "ihd6724k2_Qh",
        "outputId": "a65e3a29-9632-4939-b444-231f7ad0bf56"
      },
      "source": [
        "from pyspark.ml import Pipeline\n",
        "from pyspark.ml.classification import DecisionTreeClassifier\n",
        "from pyspark.ml.feature import StringIndexer, VectorIndexer\n",
        "from pyspark.ml.evaluation import MulticlassClassificationEvaluator\n",
        "\n",
        "# Index labels, adding metadata to the label column.\n",
        "# Fit on whole dataset to include all labels in index.\n",
        "labelIndexer = StringIndexer(inputCol=\"Label\", outputCol='TargetLabel').fit(vdf)\n",
        "# Automatically identify categorical features, and index them.\n",
        "# We specify maxCategories so features with > 4 distinct values are treated as continuous.\n",
        "featureIndexer =VectorIndexer(inputCol=\"features\", outputCol='selective_features', maxCategories=4).fit(vdf)\n",
        "\n",
        "# Split the data into training and test sets (30% held out for testing)\n",
        "(trainingData, testData) = vdf.randomSplit([0.7, 0.3])\n",
        "\n",
        "# Train a DecisionTree model.\n",
        "dt = DecisionTreeClassifier(labelCol='Label', featuresCol='features')\n",
        "\n",
        "# Chain indexers and tree in a Pipeline\n",
        "pipeline = Pipeline(stages=[labelIndexer, featureIndexer, dt])\n",
        "\n",
        "# Train model.  This also runs the indexers.\n",
        "model = pipeline.fit(trainingData)\n",
        "\n",
        "# Make predictions.\n",
        "predictions = model.transform(testData)\n",
        "\n",
        "# Select example rows to display.\n",
        "predictions.select(\"prediction\", 'Label', \"features\").show(4)\n",
        "\n",
        "# Select (prediction, true label) and compute test error\n",
        "evaluator = MulticlassClassificationEvaluator(\n",
        "    labelCol='Label', predictionCol=\"prediction\", metricName=\"accuracy\")\n",
        "accuracy = evaluator.evaluate(predictions)\n",
        "print(\"accuracy =\", accuracy)\n",
        "print(\"Test Error = %g \" % (1.0 - accuracy))\n",
        "\n",
        "treeModel = model.stages[2]\n",
        "# summary only\n",
        "print(treeModel)\n"
      ],
      "execution_count": null,
      "outputs": [
        {
          "output_type": "stream",
          "text": [
            "+----------+-----+--------------------+\n",
            "|prediction|Label|            features|\n",
            "+----------+-----+--------------------+\n",
            "|       0.0|    0|(24,[2,3,4,7,8,9,...|\n",
            "|       0.0|    0|(24,[2,3,4,7,8,9,...|\n",
            "|       0.0|    0|(24,[2,3,4,7,8,9,...|\n",
            "|       0.0|    0|(24,[2,3,4,7,8,9,...|\n",
            "+----------+-----+--------------------+\n",
            "only showing top 4 rows\n",
            "\n",
            "accuracy = 1.0\n",
            "Test Error = 0 \n",
            "DecisionTreeClassificationModel: uid=DecisionTreeClassifier_bb45775a9f23, depth=1, numNodes=3, numClasses=2, numFeatures=24\n"
          ],
          "name": "stdout"
        }
      ]
    },
    {
      "cell_type": "code",
      "metadata": {
        "colab": {
          "base_uri": "https://localhost:8080/"
        },
        "id": "VEaRKnOQv-uS",
        "outputId": "202262dd-b3f9-4f9c-880c-a1fe2fa10e7b"
      },
      "source": [
        "from pyspark.ml.classification import DecisionTreeClassifier\n",
        "dt = DecisionTreeClassifier(featuresCol = 'features', labelCol = 'Label', maxDepth = 3)\n",
        "dtModel = dt.fit(train_df)\n",
        "predictions = dtModel.transform(test_df)\n",
        "predictions.select(\"prediction\",\"Label\",\"features\").show(10)\n"
      ],
      "execution_count": null,
      "outputs": [
        {
          "output_type": "stream",
          "text": [
            "+----------+-----+--------------------+\n",
            "|prediction|Label|            features|\n",
            "+----------+-----+--------------------+\n",
            "|       0.0|    0|(23,[2,3,4,7,8,9,...|\n",
            "|       0.0|    0|(23,[2,3,4,7,8,9,...|\n",
            "|       0.0|    0|(23,[2,3,4,7,8,9,...|\n",
            "|       0.0|    0|(23,[2,3,4,7,8,9,...|\n",
            "|       0.0|    0|(23,[2,3,4,7,8,9,...|\n",
            "|       0.0|    0|(23,[2,3,4,7,8,9,...|\n",
            "|       0.0|    0|(23,[2,3,4,7,8,9,...|\n",
            "|       0.0|    0|(23,[2,3,4,7,8,9,...|\n",
            "|       0.0|    0|(23,[2,3,4,7,8,9,...|\n",
            "|       0.0|    0|(23,[2,3,4,7,8,9,...|\n",
            "+----------+-----+--------------------+\n",
            "only showing top 10 rows\n",
            "\n"
          ],
          "name": "stdout"
        }
      ]
    },
    {
      "cell_type": "code",
      "metadata": {
        "colab": {
          "base_uri": "https://localhost:8080/"
        },
        "id": "q-FSr7ajv05u",
        "outputId": "aea82586-231a-4dd8-e13b-820be040a12c"
      },
      "source": [
        "from pyspark.ml.evaluation import BinaryClassificationEvaluator\n",
        "#evaluator = BinaryClassificationEvaluator()\n",
        "dt_evaluator = BinaryClassificationEvaluator().setMetricName('areaUnderROC').setLabelCol('Label').setRawPredictionCol('rawPrediction')\n",
        "print('Test Area Under ROC', dt_evaluator.evaluate(predictions))\n"
      ],
      "execution_count": null,
      "outputs": [
        {
          "output_type": "stream",
          "text": [
            "Test Area Under ROC 1.0\n"
          ],
          "name": "stdout"
        }
      ]
    },
    {
      "cell_type": "code",
      "metadata": {
        "colab": {
          "base_uri": "https://localhost:8080/"
        },
        "id": "wdGiCUZk2_mV",
        "outputId": "e22046a8-78a9-40bb-db9b-11889199884a"
      },
      "source": [
        "print(accuracy)"
      ],
      "execution_count": null,
      "outputs": [
        {
          "output_type": "stream",
          "text": [
            "1.0\n"
          ],
          "name": "stdout"
        }
      ]
    },
    {
      "cell_type": "markdown",
      "metadata": {
        "id": "eVO6tfx_99K1"
      },
      "source": [
        "# **Random Forest Classifier**"
      ]
    },
    {
      "cell_type": "code",
      "metadata": {
        "colab": {
          "base_uri": "https://localhost:8080/"
        },
        "id": "tcFvmePev1RL",
        "outputId": "0140385e-16f8-4ed9-d746-6ced4d656136"
      },
      "source": [
        "from pyspark.ml import Pipeline\n",
        "from pyspark.ml.classification import RandomForestClassifier\n",
        "from pyspark.ml.feature import IndexToString, StringIndexer, VectorIndexer\n",
        "from pyspark.ml.evaluation import MulticlassClassificationEvaluator\n",
        "\n",
        "\n",
        "label_indexer = StringIndexer(inputCol=\"Label\", outputCol='Our_targetLabel').fit(vdf)\n",
        "\n",
        "feature_indexer =  VectorIndexer(inputCol=\"features\", outputCol='selective_features', maxCategories=4).fit(vdf)\n",
        "\n",
        "(trainingData, testData) = vdf.randomSplit([0.7, 0.3])\n",
        "\n",
        "rf = RandomForestClassifier(labelCol='Label', featuresCol='features', numTrees=10)\n",
        "\n",
        "pipeline = Pipeline(stages=[label_indexer, feature_indexer, rf])  #, labelConverter])\n",
        "\n",
        "model = pipeline.fit(trainingData)\n",
        "\n",
        "predictions = model.transform(testData)\n",
        "\n",
        "predictions.select(\"prediction\", 'Label', \"features\").show(5)\n",
        "\n",
        "evaluator = MulticlassClassificationEvaluator(labelCol='Label', predictionCol=\"prediction\", metricName=\"accuracy\")\n",
        "rf_accuracy = evaluator.evaluate(predictions)\n",
        "print(\"Random Forest Classification Model Accuracy =\", rf_accuracy)\n",
        "print(\"Test Error = %g \" % (1.0 - accuracy))"
      ],
      "execution_count": null,
      "outputs": [
        {
          "output_type": "stream",
          "text": [
            "+----------+-----+--------------------+\n",
            "|prediction|Label|            features|\n",
            "+----------+-----+--------------------+\n",
            "|       0.0|    0|(24,[2,3,4,7,8,9,...|\n",
            "|       0.0|    0|(24,[2,3,4,7,8,9,...|\n",
            "|       0.0|    0|(24,[2,3,4,7,8,9,...|\n",
            "|       0.0|    0|(24,[2,3,4,7,8,9,...|\n",
            "|       0.0|    0|(24,[2,3,4,7,8,9,...|\n",
            "+----------+-----+--------------------+\n",
            "only showing top 5 rows\n",
            "\n",
            "Random Forest Classification Model Accuracy = 1.0\n",
            "Test Error = 0 \n"
          ],
          "name": "stdout"
        }
      ]
    },
    {
      "cell_type": "markdown",
      "metadata": {
        "id": "Z7oR59ZI-9iA"
      },
      "source": [
        "# **Gradient-Boosted Tree Classifier**"
      ]
    },
    {
      "cell_type": "code",
      "metadata": {
        "colab": {
          "base_uri": "https://localhost:8080/"
        },
        "id": "X4R8dgHM-7wy",
        "outputId": "b2837d5e-6336-449e-d38d-8a0cd7c14cb3"
      },
      "source": [
        "from pyspark.ml import Pipeline\n",
        "from pyspark.ml.classification import GBTClassifier\n",
        "from pyspark.ml.feature import StringIndexer, VectorIndexer\n",
        "from pyspark.ml.evaluation import MulticlassClassificationEvaluator\n",
        "\n",
        "lab_Indr = StringIndexer(inputCol=\"Label\", outputCol='our_target_label').fit(vdf)\n",
        "\n",
        "feature_Indr =VectorIndexer(inputCol=\"features\", outputCol='selective_features', maxCategories=4).fit(vdf)\n",
        "\n",
        "(trainingData, testData) = vdf.randomSplit([0.7, 0.3])\n",
        "\n",
        "gbt = GBTClassifier(labelCol='Label', featuresCol='features',maxIter=10)\n",
        "\n",
        "pipeline = Pipeline(stages=[lab_Indr, feature_Indr, gbt])\n",
        "\n",
        "model = pipeline.fit(trainingData)\n",
        "\n",
        "predictions = model.transform(testData)\n",
        "\n",
        "predictions.select(\"prediction\", 'Label', \"features\").show(5)\n",
        "\n",
        "evaluator = MulticlassClassificationEvaluator(labelCol='Label', predictionCol=\"prediction\", metricName=\"accuracy\")\n",
        "gbt_accuracy = evaluator.evaluate(predictions)\n",
        "print(\"Gradient-Boosted Tree Classifier Accuracy =\", gbt_accuracy)\n",
        "print(\"Test Error = %g\" % (1.0 - accuracy))\n",
        "gbtModel = model.stages[2]\n",
        " # summary\n",
        " \n",
        "print(gbtModel) "
      ],
      "execution_count": null,
      "outputs": [
        {
          "output_type": "stream",
          "text": [
            "+----------+-----+--------------------+\n",
            "|prediction|Label|            features|\n",
            "+----------+-----+--------------------+\n",
            "|       0.0|    0|(24,[2,3,4,7,8,9,...|\n",
            "|       0.0|    0|(24,[2,3,4,7,8,9,...|\n",
            "|       0.0|    0|(24,[2,3,4,7,8,9,...|\n",
            "|       0.0|    0|(24,[2,3,4,7,8,9,...|\n",
            "|       0.0|    0|(24,[2,3,4,7,8,9,...|\n",
            "+----------+-----+--------------------+\n",
            "only showing top 5 rows\n",
            "\n",
            "Gradient-Boosted Tree Classifier Accuracy = 1.0\n",
            "Test Error = 0\n",
            "GBTClassificationModel: uid = GBTClassifier_5a93ebe93f92, numTrees=10, numClasses=2, numFeatures=24\n"
          ],
          "name": "stdout"
        }
      ]
    },
    {
      "cell_type": "code",
      "metadata": {
        "colab": {
          "base_uri": "https://localhost:8080/"
        },
        "id": "0NEI3ehm-8EU",
        "outputId": "077033cd-4d21-44bb-ef91-5bb6624e5fa9"
      },
      "source": [
        "from pyspark.ml.evaluation import BinaryClassificationEvaluator\n",
        "gbt_evaluator = BinaryClassificationEvaluator().setMetricName('areaUnderROC').setLabelCol('Label').setRawPredictionCol('rawPrediction')\n",
        "print('Test Area Under ROC', gbt_evaluator.evaluate(predictions))\n",
        "\n"
      ],
      "execution_count": null,
      "outputs": [
        {
          "output_type": "stream",
          "text": [
            "Test Area Under ROC 1.0\n"
          ],
          "name": "stdout"
        }
      ]
    },
    {
      "cell_type": "code",
      "metadata": {
        "colab": {
          "base_uri": "https://localhost:8080/"
        },
        "id": "D4sj--w9-8Ge",
        "outputId": "e57c2372-b6ba-4d0c-b0ac-269bd374902e"
      },
      "source": [
        "print(gbt.explainParams())"
      ],
      "execution_count": null,
      "outputs": [
        {
          "output_type": "stream",
          "text": [
            "cacheNodeIds: If false, the algorithm will pass trees to executors to match instances with nodes. If true, the algorithm will cache node IDs for each instance. Caching can speed up training of deeper trees. Users can set how often should the cache be checkpointed or disable it by setting checkpointInterval. (default: False)\n",
            "checkpointInterval: set checkpoint interval (>= 1) or disable checkpoint (-1). E.g. 10 means that the cache will get checkpointed every 10 iterations. Note: this setting will be ignored if the checkpoint directory is not set in the SparkContext. (default: 10)\n",
            "featureSubsetStrategy: The number of features to consider for splits at each tree node. Supported options: 'auto' (choose automatically for task: If numTrees == 1, set to 'all'. If numTrees > 1 (forest), set to 'sqrt' for classification and to 'onethird' for regression), 'all' (use all features), 'onethird' (use 1/3 of the features), 'sqrt' (use sqrt(number of features)), 'log2' (use log2(number of features)), 'n' (when n is in the range (0, 1.0], use n * number of features. When n is in the range (1, number of features), use n features). default = 'auto' (default: all)\n",
            "featuresCol: features column name. (default: features, current: features)\n",
            "impurity: Criterion used for information gain calculation (case-insensitive). Supported options: variance (default: variance)\n",
            "labelCol: label column name. (default: label, current: Label)\n",
            "leafCol: Leaf indices column name. Predicted leaf index of each instance in each tree by preorder. (default: )\n",
            "lossType: Loss function which GBT tries to minimize (case-insensitive). Supported options: logistic (default: logistic)\n",
            "maxBins: Max number of bins for discretizing continuous features.  Must be >=2 and >= number of categories for any categorical feature. (default: 32)\n",
            "maxDepth: Maximum depth of the tree. (>= 0) E.g., depth 0 means 1 leaf node; depth 1 means 1 internal node + 2 leaf nodes. (default: 5)\n",
            "maxIter: max number of iterations (>= 0). (default: 20, current: 10)\n",
            "maxMemoryInMB: Maximum memory in MB allocated to histogram aggregation. If too small, then 1 node will be split per iteration, and its aggregates may exceed this size. (default: 256)\n",
            "minInfoGain: Minimum information gain for a split to be considered at a tree node. (default: 0.0)\n",
            "minInstancesPerNode: Minimum number of instances each child must have after split. If a split causes the left or right child to have fewer than minInstancesPerNode, the split will be discarded as invalid. Should be >= 1. (default: 1)\n",
            "minWeightFractionPerNode: Minimum fraction of the weighted sample count that each child must have after split. If a split causes the fraction of the total weight in the left or right child to be less than minWeightFractionPerNode, the split will be discarded as invalid. Should be in interval [0.0, 0.5). (default: 0.0)\n",
            "predictionCol: prediction column name. (default: prediction)\n",
            "probabilityCol: Column name for predicted class conditional probabilities. Note: Not all models output well-calibrated probability estimates! These probabilities should be treated as confidences, not precise probabilities. (default: probability)\n",
            "rawPredictionCol: raw prediction (a.k.a. confidence) column name. (default: rawPrediction)\n",
            "seed: random seed. (default: 3884255462650019525)\n",
            "stepSize: Step size (a.k.a. learning rate) in interval (0, 1] for shrinking the contribution of each estimator. (default: 0.1)\n",
            "subsamplingRate: Fraction of the training data used for learning each decision tree, in range (0, 1]. (default: 1.0)\n",
            "thresholds: Thresholds in multi-class classification to adjust the probability of predicting each class. Array must have length equal to the number of classes, with values > 0, excepting that at most one value may be 0. The class with largest value p/t is predicted, where p is the original probability of that class and t is the class's threshold. (undefined)\n",
            "validationIndicatorCol: name of the column that indicates whether each row is for training or for validation. False indicates training; true indicates validation. (undefined)\n",
            "validationTol: Threshold for stopping early when fit with validation is used. If the error rate on the validation input changes by less than the validationTol, then learning will stop early (before `maxIter`). This parameter is ignored when fit without validation is used. (default: 0.01)\n",
            "weightCol: weight column name. If this is not set or empty, we treat all instance weights as 1.0. (undefined)\n"
          ],
          "name": "stdout"
        }
      ]
    },
    {
      "cell_type": "code",
      "metadata": {
        "id": "aGu7EamQ-8V1"
      },
      "source": [
        ""
      ],
      "execution_count": null,
      "outputs": []
    },
    {
      "cell_type": "markdown",
      "metadata": {
        "id": "w_GxxG2CJlb_"
      },
      "source": [
        "# **Multiclass Classification**"
      ]
    },
    {
      "cell_type": "code",
      "metadata": {
        "id": "MS9ZcyywJjy0"
      },
      "source": [
        "from pyspark.ml.linalg import Vectors\n",
        "from pyspark.ml import Pipeline\n",
        "from pyspark.ml.feature import IndexToString,StringIndexer, VectorIndexer\n",
        "from pyspark.ml.tuning import CrossValidator, ParamGridBuilder\n",
        "from pyspark.ml.evaluation import MulticlassClassificationEvaluator\n"
      ],
      "execution_count": null,
      "outputs": []
    },
    {
      "cell_type": "code",
      "metadata": {
        "colab": {
          "base_uri": "https://localhost:8080/"
        },
        "id": "NoLIjf9XJjvD",
        "outputId": "9901b0f2-9dde-498b-98c4-8fd156d1c5c5"
      },
      "source": [
        "from pyspark.ml.feature import VectorAssembler\n",
        "vectorAssembler = VectorAssembler(inputCols = ['synack', 'tcprtt', 'Ltime', 'Stime','dmeansz', 'dwin', 'swin', 'Dpkts','ct_dst_src_ltm','Spkts','Dload','Sload','dttl','sttl','dsport','sport','ct_src_dport_ltm', 'ct_src_ ltm', 'ct_dst_ltm', 'ct_srv_dst', 'ct_srv_src', 'ct_state_ttl', 'ackdat'], outputCol = 'features')\n",
        "\n",
        "mcvdf = vectorAssembler.transform(df5)\n",
        "mcvdf = mcvdf.select(['features', 'attack_cat'])\n",
        "mcvdf.show(8)"
      ],
      "execution_count": null,
      "outputs": [
        {
          "output_type": "stream",
          "text": [
            "+--------------------+--------------+\n",
            "|            features|    attack_cat|\n",
            "+--------------------+--------------+\n",
            "|(23,[2,3,8,9,16,1...|  Not_Effected|\n",
            "|(23,[2,3,8,9,16,1...|  Not_Effected|\n",
            "|(23,[2,3,8,9,16,1...|  Not_Effected|\n",
            "|(23,[2,3,8,9,11,1...|  Not_Effected|\n",
            "|(23,[2,3,8,9,11,1...|     Shellcode|\n",
            "|(23,[2,3,8,9,11,1...|Reconnaissance|\n",
            "|(23,[2,3,8,9,11,1...|Reconnaissance|\n",
            "|(23,[2,3,8,9,11,1...|       Generic|\n",
            "+--------------------+--------------+\n",
            "only showing top 8 rows\n",
            "\n"
          ],
          "name": "stdout"
        }
      ]
    },
    {
      "cell_type": "code",
      "metadata": {
        "id": "xPCs5QO0Jj1r"
      },
      "source": [
        "def get_dummy(df,indexCol,categoricalCols,continuousCols,labelCol):\n",
        "\n",
        "    from pyspark.ml import Pipeline\n",
        "    from pyspark.ml.feature import StringIndexer, OneHotEncoder, VectorAssembler\n",
        "    from pyspark.sql.functions import col\n",
        "\n",
        "    indexers = [ StringIndexer(inputCol=c, outputCol=\"{0}_indexed\".format(c))\n",
        "                 for c in categoricalCols ]\n",
        "\n",
        "    # default setting: dropLast=True\n",
        "    encoders = [ OneHotEncoder(inputCol=indexer.getOutputCol(),\n",
        "                 outputCol=\"{0}_encoded\".format(indexer.getOutputCol()))\n",
        "                 for indexer in indexers ]\n",
        "\n",
        "    assembler = VectorAssembler(inputCols=[encoder.getOutputCol() for encoder in encoders]\n",
        "                                + continuousCols, outputCol=\"features\")\n",
        "\n",
        "    pipeline = Pipeline(stages=indexers + encoders + [assembler])\n",
        "\n",
        "    model=pipeline.fit(df)\n",
        "    data = model.transform(df)\n",
        "\n",
        "    data = data.withColumn('attack_cat',col(labelCol))\n",
        "\n",
        "    return data.select(indexCol,'features','attack_cat')"
      ],
      "execution_count": null,
      "outputs": []
    },
    {
      "cell_type": "code",
      "metadata": {
        "id": "hoUfIG32Jj4d"
      },
      "source": [
        "def transData(data):\n",
        "    return data.rdd.map(lambda r: [Vectors.dense(r[:-1]),r[-1]]).toDF(['features','attack_cat'])"
      ],
      "execution_count": null,
      "outputs": []
    },
    {
      "cell_type": "code",
      "metadata": {
        "colab": {
          "base_uri": "https://localhost:8080/"
        },
        "id": "EU5hX95SJj8H",
        "outputId": "913a5386-81ff-409e-c0ba-876e100d85cc"
      },
      "source": [
        "labelIndexer = StringIndexer(inputCol='attack_cat',\n",
        "                             outputCol='indexedLabel').fit(mcvdf)\n",
        "labelIndexer.transform(mcvdf).show(5, True)"
      ],
      "execution_count": null,
      "outputs": [
        {
          "output_type": "stream",
          "text": [
            "+--------------------+------------+------------+\n",
            "|            features|  attack_cat|indexedLabel|\n",
            "+--------------------+------------+------------+\n",
            "|(23,[2,3,8,9,16,1...|Not_Effected|         0.0|\n",
            "|(23,[2,3,8,9,16,1...|Not_Effected|         0.0|\n",
            "|(23,[2,3,8,9,16,1...|Not_Effected|         0.0|\n",
            "|(23,[2,3,8,9,11,1...|Not_Effected|         0.0|\n",
            "|(23,[2,3,8,9,11,1...|   Shellcode|         8.0|\n",
            "+--------------------+------------+------------+\n",
            "only showing top 5 rows\n",
            "\n"
          ],
          "name": "stdout"
        }
      ]
    },
    {
      "cell_type": "code",
      "metadata": {
        "colab": {
          "base_uri": "https://localhost:8080/"
        },
        "id": "E62qViIhJkAl",
        "outputId": "7c4aada0-9abe-4d52-aed8-8e2dbdb7e9d2"
      },
      "source": [
        "# Automatically identify categorical features, and index them.\n",
        "# Set maxCategories so features with > 4 distinct values are treated as continuous.\n",
        "featureIndexer =VectorIndexer(inputCol=\"features\", outputCol=\"indexedFeatures\").fit(mcvdf)\n",
        "featureIndexer.transform(mcvdf).show(5, True)"
      ],
      "execution_count": null,
      "outputs": [
        {
          "output_type": "stream",
          "text": [
            "+--------------------+------------+--------------------+\n",
            "|            features|  attack_cat|     indexedFeatures|\n",
            "+--------------------+------------+--------------------+\n",
            "|(23,[2,3,8,9,16,1...|Not_Effected|(23,[2,3,8,9,16,1...|\n",
            "|(23,[2,3,8,9,16,1...|Not_Effected|(23,[2,3,8,9,16,1...|\n",
            "|(23,[2,3,8,9,16,1...|Not_Effected|(23,[2,3,8,9,16,1...|\n",
            "|(23,[2,3,8,9,11,1...|Not_Effected|(23,[2,3,8,9,11,1...|\n",
            "|(23,[2,3,8,9,11,1...|   Shellcode|(23,[2,3,8,9,11,1...|\n",
            "+--------------------+------------+--------------------+\n",
            "only showing top 5 rows\n",
            "\n"
          ],
          "name": "stdout"
        }
      ]
    },
    {
      "cell_type": "code",
      "metadata": {
        "colab": {
          "base_uri": "https://localhost:8080/"
        },
        "id": "F7gozUewJkE0",
        "outputId": "c687e2b2-ac87-4011-e93d-577e98190fe5"
      },
      "source": [
        "(trainingData, testData) = mcvdf.randomSplit([0.7, 0.3])\n",
        "\n",
        "trainingData.show(5)\n",
        "testData.show(5)\n",
        "\n"
      ],
      "execution_count": null,
      "outputs": [
        {
          "output_type": "stream",
          "text": [
            "+--------------------+------------+\n",
            "|            features|  attack_cat|\n",
            "+--------------------+------------+\n",
            "|(23,[2,3,4,7,8,9,...|Not_Effected|\n",
            "|(23,[2,3,4,7,8,9,...|Not_Effected|\n",
            "|(23,[2,3,4,7,8,9,...|Not_Effected|\n",
            "|(23,[2,3,4,7,8,9,...|Not_Effected|\n",
            "|(23,[2,3,4,7,8,9,...|Not_Effected|\n",
            "+--------------------+------------+\n",
            "only showing top 5 rows\n",
            "\n",
            "+--------------------+------------+\n",
            "|            features|  attack_cat|\n",
            "+--------------------+------------+\n",
            "|(23,[2,3,4,7,8,9,...|Not_Effected|\n",
            "|(23,[2,3,4,7,8,9,...|Not_Effected|\n",
            "|(23,[2,3,4,7,8,9,...|Not_Effected|\n",
            "|(23,[2,3,4,7,8,9,...|Not_Effected|\n",
            "|(23,[2,3,4,7,8,9,...|Not_Effected|\n",
            "+--------------------+------------+\n",
            "only showing top 5 rows\n",
            "\n"
          ],
          "name": "stdout"
        }
      ]
    },
    {
      "cell_type": "code",
      "metadata": {
        "colab": {
          "base_uri": "https://localhost:8080/"
        },
        "id": "RwC9slfUNYw0",
        "outputId": "994de2b5-2963-4348-c4f0-5e4f8725bd97"
      },
      "source": [
        "print(\"Training Dataset Count: \" + str(trainingData.count()))\n",
        "print(\"Test Dataset Count: \" + str(testData.count()))"
      ],
      "execution_count": null,
      "outputs": [
        {
          "output_type": "stream",
          "text": [
            "Training Dataset Count: 1441862\n",
            "Test Dataset Count: 617252\n"
          ],
          "name": "stdout"
        }
      ]
    },
    {
      "cell_type": "markdown",
      "metadata": {
        "id": "E69_wtCHNrbi"
      },
      "source": [
        "# **logisticRegression Classification Model**"
      ]
    },
    {
      "cell_type": "code",
      "metadata": {
        "colab": {
          "base_uri": "https://localhost:8080/"
        },
        "id": "zIxP8AezNY88",
        "outputId": "6495acbb-d8a9-4abd-830a-0f1f18f5dfe2"
      },
      "source": [
        "from pyspark.ml.classification import LogisticRegression\n",
        "logr = LogisticRegression(labelCol='indexedLabel', featuresCol='indexedFeatures')\n",
        "\n",
        "# Convert indexed labels back to original labels.\n",
        "labelConverter = IndexToString(inputCol=\"prediction\", outputCol=\"predictedLabel\",\n",
        "                               labels=labelIndexer.labels)\n",
        "\n",
        "# Chain indexers and tree in a Pipeline\n",
        "pipeline = Pipeline(stages=[labelIndexer, featureIndexer, logr,labelConverter])\n",
        "# Train model.  This also runs the indexers.\n",
        "model = pipeline.fit(trainingData)\n",
        "\n",
        "# Make predictions.\n",
        "predictions = model.transform(testData)\n",
        "# Select example rows to display.\n",
        "predictions.select(\"features\",\"attack_cat\",\"predictedLabel\").show(5)\n"
      ],
      "execution_count": null,
      "outputs": [
        {
          "output_type": "stream",
          "text": [
            "+--------------------+------------+--------------+\n",
            "|            features|  attack_cat|predictedLabel|\n",
            "+--------------------+------------+--------------+\n",
            "|(23,[2,3,4,7,8,9,...|Not_Effected|  Not_Effected|\n",
            "|(23,[2,3,4,7,8,9,...|Not_Effected|  Not_Effected|\n",
            "|(23,[2,3,4,7,8,9,...|Not_Effected|  Not_Effected|\n",
            "|(23,[2,3,4,7,8,9,...|Not_Effected|  Not_Effected|\n",
            "|(23,[2,3,4,7,8,9,...|Not_Effected|  Not_Effected|\n",
            "+--------------------+------------+--------------+\n",
            "only showing top 5 rows\n",
            "\n"
          ],
          "name": "stdout"
        }
      ]
    },
    {
      "cell_type": "code",
      "metadata": {
        "colab": {
          "base_uri": "https://localhost:8080/"
        },
        "id": "UxuQT6IrNZHy",
        "outputId": "95033d6d-043c-4d06-85a1-e7b27fa0ff22"
      },
      "source": [
        "from pyspark.ml.evaluation import MulticlassClassificationEvaluator\n",
        "\n",
        "evaluator = MulticlassClassificationEvaluator(\n",
        "    labelCol=\"indexedLabel\", predictionCol=\"prediction\", metricName=\"accuracy\")\n",
        "LR_accuracy = evaluator.evaluate(predictions)\n",
        "\n",
        "print(\"Accuracy of the logisticRegression Classification Model =\", LR_accuracy) \n",
        "print(\"Test Error of logisticRegression Classification Model  = %g\" % (1.0 - LR_accuracy))\n"
      ],
      "execution_count": null,
      "outputs": [
        {
          "output_type": "stream",
          "text": [
            "Accuracy of the logisticRegression Classification Model = 0.9497547193042712\n",
            "Test Error of logisticRegression Classification Model  = 0.0502453\n"
          ],
          "name": "stdout"
        }
      ]
    },
    {
      "cell_type": "code",
      "metadata": {
        "id": "Dbfmuo-_PI3o"
      },
      "source": [
        "import matplotlib.pyplot as plt\n",
        "import numpy as np\n",
        "import itertools\n",
        "\n",
        "def plot_confusion_matrix(cm, classes,\n",
        "                          normalize=False,\n",
        "                          title='Confusion matrix',\n",
        "                          cmap=plt.cm.Blues):\n",
        "    \"\"\"\n",
        "    This function prints and plots the confusion matrix.\n",
        "    Normalization can be applied by setting `normalize=True`.\n",
        "    \"\"\"\n",
        "    if normalize:\n",
        "        cm = cm.astype('float') / cm.sum(axis=1)[:, np.newaxis]\n",
        "        print(\"Normalized confusion matrix\")\n",
        "    else:\n",
        "        print('Confusion matrix, without normalization')\n",
        "\n",
        "    print(cm)\n",
        "\n",
        "    plt.imshow(cm, interpolation='nearest', cmap=cmap)\n",
        "    plt.title(title)\n",
        "    plt.colorbar()\n",
        "    tick_marks = np.arange(len(classes))\n",
        "    plt.xticks(tick_marks, classes, rotation=45)\n",
        "    plt.yticks(tick_marks, classes)\n",
        "\n",
        "    fmt = '.2f' if normalize else 'd'\n",
        "    thresh = cm.max() / 2.\n",
        "    for i, j in itertools.product(range(cm.shape[0]), range(cm.shape[1])):\n",
        "        plt.text(j, i, format(cm[i, j], fmt),\n",
        "                 horizontalalignment=\"center\",\n",
        "                 color=\"white\" if cm[i, j] > thresh else \"black\")\n",
        "\n",
        "    plt.tight_layout()\n",
        "    plt.ylabel('True label')\n",
        "    plt.xlabel('Predicted label')"
      ],
      "execution_count": null,
      "outputs": []
    },
    {
      "cell_type": "code",
      "metadata": {
        "id": "-yiHTAZdPI7s"
      },
      "source": [
        "class_temp = predictions.select(\"attack_cat\").groupBy(\"attack_cat\")\\\n",
        "                        .count().sort('count', ascending=False).toPandas()\n",
        "class_temp = class_temp[\"attack_cat\"].values.tolist()\n",
        "class_names= ['NotMentioned','Worms','Shellcode','Fuzzers','Analysis','DoS','Reconnaissance','Backdoor','Exploits','Generic']"
      ],
      "execution_count": null,
      "outputs": []
    },
    {
      "cell_type": "code",
      "metadata": {
        "colab": {
          "base_uri": "https://localhost:8080/"
        },
        "id": "GpncU350PI-0",
        "outputId": "8f966674-9c49-4817-85d1-853c1bb868e1"
      },
      "source": [
        "from sklearn.metrics import confusion_matrix\n",
        "y_true = predictions.select(\"attack_cat\")\n",
        "y_true = y_true.toPandas()\n",
        "\n",
        "y_pred = predictions.select(\"predictedLabel\")\n",
        "y_pred = y_pred.toPandas()\n",
        "\n",
        "cnf_matrix = confusion_matrix(y_true, y_pred,labels=class_names)\n",
        "cnf_matrix"
      ],
      "execution_count": null,
      "outputs": [
        {
          "output_type": "execute_result",
          "data": {
            "text/plain": [
              "array([[   0,    0,    0,    0,    0,    0,    0,    0,    0,    0],\n",
              "       [   0,    0,    0,    3,    0,    0,    0,    0,   45,    0],\n",
              "       [   0,    0,    0,   17,    0,    0,    0,    0,  220,    0],\n",
              "       [   0,    0,    0,  462,    0,    0,    0,    0, 3983,  317],\n",
              "       [   0,    0,    0,   12,    0,    0,    0,    0,    3,   29],\n",
              "       [   0,    0,    0,   40,    0,    0,    0,    0,  486,   37],\n",
              "       [   0,    0,    0,   93,    0,    0,    0,    0, 1964,   36],\n",
              "       [   0,    0,    0,   12,    0,    0,    0,    0,   65,   32],\n",
              "       [   0,    0,    0,   92,    0,    0,    0,    0, 2614,   46],\n",
              "       [   0,    0,    0,  137,    0,    0,    0,    0,  514, 4064]])"
            ]
          },
          "metadata": {
            "tags": []
          },
          "execution_count": 85
        }
      ]
    },
    {
      "cell_type": "code",
      "metadata": {
        "colab": {
          "base_uri": "https://localhost:8080/",
          "height": 714
        },
        "id": "QlvypTUxPJBs",
        "outputId": "3b3ae621-49d4-45a6-e9ef-91bd518a29b4"
      },
      "source": [
        "plt.figure(figsize = (10,7))\n",
        "plot_confusion_matrix(cnf_matrix, classes=class_names,\n",
        "                      title='Confusion matrix, without normalization')\n",
        "plt.show()"
      ],
      "execution_count": null,
      "outputs": [
        {
          "output_type": "stream",
          "text": [
            "Confusion matrix, without normalization\n",
            "[[   0    0    0    0    0    0    0    0    0    0]\n",
            " [   0    0    0    3    0    0    0    0   45    0]\n",
            " [   0    0    0   17    0    0    0    0  220    0]\n",
            " [   0    0    0  462    0    0    0    0 3983  317]\n",
            " [   0    0    0   12    0    0    0    0    3   29]\n",
            " [   0    0    0   40    0    0    0    0  486   37]\n",
            " [   0    0    0   93    0    0    0    0 1964   36]\n",
            " [   0    0    0   12    0    0    0    0   65   32]\n",
            " [   0    0    0   92    0    0    0    0 2614   46]\n",
            " [   0    0    0  137    0    0    0    0  514 4064]]\n"
          ],
          "name": "stdout"
        },
        {
          "output_type": "display_data",
          "data": {
            "image/png": "[encoded data removed]",
            "text/plain": [
              "<Figure size 720x504 with 2 Axes>"
            ]
          },
          "metadata": {
            "tags": [],
            "needs_background": "light"
          }
        }
      ]
    },
    {
      "cell_type": "code",
      "metadata": {
        "colab": {
          "base_uri": "https://localhost:8080/",
          "height": 918
        },
        "id": "e9dYcSV3PJF5",
        "outputId": "18aa5b98-e3ae-4de0-d794-4203f25045ec"
      },
      "source": [
        "# Plot normalized confusion matrix\n",
        "plt.figure(figsize = (10,7))\n",
        "plot_confusion_matrix(cnf_matrix, classes=class_names, normalize=True,\n",
        "                      title='Normalized confusion matrix')\n",
        "\n",
        "plt.show()"
      ],
      "execution_count": null,
      "outputs": [
        {
          "output_type": "stream",
          "text": [
            "/usr/local/lib/python3.7/dist-packages/ipykernel_launcher.py:14: RuntimeWarning: invalid value encountered in true_divide\n",
            "  \n"
          ],
          "name": "stderr"
        },
        {
          "output_type": "stream",
          "text": [
            "Normalized confusion matrix\n",
            "[[       nan        nan        nan        nan        nan        nan\n",
            "         nan        nan        nan        nan]\n",
            " [0.         0.         0.         0.0625     0.         0.\n",
            "  0.         0.         0.9375     0.        ]\n",
            " [0.         0.         0.         0.07172996 0.         0.\n",
            "  0.         0.         0.92827004 0.        ]\n",
            " [0.         0.         0.         0.09701806 0.         0.\n",
            "  0.         0.         0.83641327 0.06656867]\n",
            " [0.         0.         0.         0.27272727 0.         0.\n",
            "  0.         0.         0.06818182 0.65909091]\n",
            " [0.         0.         0.         0.07104796 0.         0.\n",
            "  0.         0.         0.86323268 0.06571936]\n",
            " [0.         0.         0.         0.04443383 0.         0.\n",
            "  0.         0.         0.93836598 0.01720019]\n",
            " [0.         0.         0.         0.11009174 0.         0.\n",
            "  0.         0.         0.59633028 0.29357798]\n",
            " [0.         0.         0.         0.03343023 0.         0.\n",
            "  0.         0.         0.94985465 0.01671512]\n",
            " [0.         0.         0.         0.0290562  0.         0.\n",
            "  0.         0.         0.10901379 0.86193001]]\n"
          ],
          "name": "stdout"
        },
        {
          "output_type": "display_data",
          "data": {
            "image/png": "[encoded data removed]",
            "text/plain": [
              "<Figure size 720x504 with 2 Axes>"
            ]
          },
          "metadata": {
            "tags": [],
            "needs_background": "light"
          }
        }
      ]
    },
    {
      "cell_type": "code",
      "metadata": {
        "colab": {
          "base_uri": "https://localhost:8080/"
        },
        "id": "gLIU20-1PJLn",
        "outputId": "74e0a70a-9b36-4c23-8f78-de19df874a43"
      },
      "source": [
        "from sklearn.metrics import precision_score\n",
        "from sklearn.metrics import recall_score\n",
        "from sklearn.metrics import f1_score\n",
        "precision = precision_score(y_true, y_pred, average='micro')\n",
        "print('Precision=%.3f' % precision)\n",
        "\n",
        "#recall = recall_score(y_true, y_pred, labels=[3,4], average='micro')\n",
        "recall = recall_score(y_true, y_pred,  average='micro')\n",
        "print('Recall: %.3f' % recall)\n",
        "\n",
        "score = f1_score(y_true, y_pred, average='micro')\n",
        "print('F-Measure: %.3f' % score)"
      ],
      "execution_count": null,
      "outputs": [
        {
          "output_type": "stream",
          "text": [
            "Precision=0.950\n",
            "Recall: 0.950\n",
            "F-Measure: 0.950\n"
          ],
          "name": "stdout"
        }
      ]
    },
    {
      "cell_type": "code",
      "metadata": {
        "id": "sC1oqQVMQq_n"
      },
      "source": [
        ""
      ],
      "execution_count": null,
      "outputs": []
    },
    {
      "cell_type": "markdown",
      "metadata": {
        "id": "0cCW7XI2Qshg"
      },
      "source": [
        "# **Desicion Tree Classification Model**"
      ]
    },
    {
      "cell_type": "code",
      "metadata": {
        "colab": {
          "base_uri": "https://localhost:8080/"
        },
        "id": "T3RGREBvQrSr",
        "outputId": "c0d0d5a6-260f-402f-cd42-94b3d51c7590"
      },
      "source": [
        "from pyspark.ml.classification import DecisionTreeClassifier\n",
        "\n",
        "# Train a DecisionTree model\n",
        "dTree = DecisionTreeClassifier(labelCol='indexedLabel', featuresCol='indexedFeatures')\n",
        "\n",
        "# Convert indexed labels back to original labels.\n",
        "labelConverter = IndexToString(inputCol=\"prediction\", outputCol=\"predictedLabel\",labels=labelIndexer.labels)\n",
        "\n",
        "# Chain indexers and tree in a Pipeline\n",
        "pipeline = Pipeline(stages=[labelIndexer, featureIndexer, dTree,labelConverter])\n",
        "\n",
        "# Train model.  This also runs the indexers.\n",
        "model = pipeline.fit(trainingData)\n",
        "\n",
        "# Make predictions.\n",
        "predictions = model.transform(testData)\n",
        "# Select example rows to display.\n",
        "predictions.select(\"features\",\"attack_cat\",\"predictedLabel\").show(5)\n",
        "\n"
      ],
      "execution_count": null,
      "outputs": [
        {
          "output_type": "stream",
          "text": [
            "+--------------------+------------+--------------+\n",
            "|            features|  attack_cat|predictedLabel|\n",
            "+--------------------+------------+--------------+\n",
            "|(23,[2,3,4,7,8,9,...|Not_Effected|  Not_Effected|\n",
            "|(23,[2,3,4,7,8,9,...|Not_Effected|  Not_Effected|\n",
            "|(23,[2,3,4,7,8,9,...|Not_Effected|  Not_Effected|\n",
            "|(23,[2,3,4,7,8,9,...|Not_Effected|  Not_Effected|\n",
            "|(23,[2,3,4,7,8,9,...|Not_Effected|  Not_Effected|\n",
            "+--------------------+------------+--------------+\n",
            "only showing top 5 rows\n",
            "\n"
          ],
          "name": "stdout"
        }
      ]
    },
    {
      "cell_type": "code",
      "metadata": {
        "colab": {
          "base_uri": "https://localhost:8080/"
        },
        "id": "WRgFHrxFPJQT",
        "outputId": "346b30b0-14d8-47c3-d4d2-a50d75ce3300"
      },
      "source": [
        "from pyspark.ml.evaluation import MulticlassClassificationEvaluator\n",
        "\n",
        "evaluator = MulticlassClassificationEvaluator(labelCol=\"indexedLabel\", predictionCol=\"prediction\", metricName=\"accuracy\")\n",
        "DT_accuracy = evaluator.evaluate(predictions)\n",
        "print(\"Test Error = %g\" % (1.0 - DT_accuracy))\n",
        "print(\"Decision Tree Classification Model Accuracy =\", DT_accuracy)\n",
        "DTModel = model.stages[-2]\n",
        "# summary only\n",
        "print(DTModel)  "
      ],
      "execution_count": null,
      "outputs": [
        {
          "output_type": "stream",
          "text": [
            "Test Error = 0.0256735\n",
            "Accuracy = 0.9743265311412519\n",
            "DecisionTreeClassificationModel: uid=DecisionTreeClassifier_19c3253891df, depth=5, numNodes=45, numClasses=10, numFeatures=23\n"
          ],
          "name": "stdout"
        }
      ]
    },
    {
      "cell_type": "code",
      "metadata": {
        "id": "J7Y-H7SFPJTx"
      },
      "source": [
        ""
      ],
      "execution_count": null,
      "outputs": []
    },
    {
      "cell_type": "markdown",
      "metadata": {
        "id": "YUZCM1TdV-oA"
      },
      "source": [
        "**Confusion Matrix for the Decision Tree Classifier**"
      ]
    },
    {
      "cell_type": "code",
      "metadata": {
        "id": "d3txfvQqNZKx"
      },
      "source": [
        "import matplotlib.pyplot as plt\n",
        "import numpy as np\n",
        "import itertools\n",
        "\n",
        "def plot_confusion_matrix(cm, classes,\n",
        "                          normalize=False,\n",
        "                          title='Confusion matrix',\n",
        "                          cmap=plt.cm.Blues):\n",
        "    \"\"\"\n",
        "    This function prints and plots the confusion matrix.\n",
        "    Normalization can be applied by setting `normalize=True`.\n",
        "    \"\"\"\n",
        "    if normalize:\n",
        "        cm = cm.astype('float') / cm.sum(axis=1)[:, np.newaxis]\n",
        "        print(\"Normalized confusion matrix\")\n",
        "    else:\n",
        "        print('Confusion matrix, without normalization')\n",
        "\n",
        "    print(cm)\n",
        "\n",
        "    plt.imshow(cm, interpolation='nearest', cmap=cmap)\n",
        "    plt.title(title)\n",
        "    plt.colorbar()\n",
        "    tick_marks = np.arange(len(classes))\n",
        "    plt.xticks(tick_marks, classes, rotation=45)\n",
        "    plt.yticks(tick_marks, classes)\n",
        "\n",
        "    fmt = '.2f' if normalize else 'd'\n",
        "    thresh = cm.max() / 2.\n",
        "    for i, j in itertools.product(range(cm.shape[0]), range(cm.shape[1])):\n",
        "        plt.text(j, i, format(cm[i, j], fmt),\n",
        "                 horizontalalignment=\"center\",\n",
        "                 color=\"white\" if cm[i, j] > thresh else \"black\")\n",
        "\n",
        "    plt.tight_layout()\n",
        "    plt.ylabel('True label')\n",
        "    plt.xlabel('Predicted label')"
      ],
      "execution_count": null,
      "outputs": []
    },
    {
      "cell_type": "code",
      "metadata": {
        "id": "QNewPs0YReVg"
      },
      "source": [
        "class_temp = predictions.select(\"attack_cat\").groupBy(\"attack_cat\")\\\n",
        "                        .count().sort('count', ascending=False).toPandas()\n",
        "class_temp = class_temp[\"attack_cat\"].values.tolist()\n",
        "class_names= ['NotMentioned','Worms','Shellcode','Fuzzers','Analysis','DoS','Reconnaissance','Backdoor','Exploits','Generic']"
      ],
      "execution_count": null,
      "outputs": []
    },
    {
      "cell_type": "code",
      "metadata": {
        "colab": {
          "base_uri": "https://localhost:8080/"
        },
        "id": "ujCgSanQReZO",
        "outputId": "257b065f-a238-4994-b321-5091cbaab509"
      },
      "source": [
        "from sklearn.metrics import confusion_matrix\n",
        "y_true = predictions.select(\"attack_cat\")\n",
        "y_true = y_true.toPandas()\n",
        "\n",
        "y_pred = predictions.select(\"predictedLabel\")\n",
        "y_pred = y_pred.toPandas()\n",
        "\n",
        "cnf_matrix = confusion_matrix(y_true, y_pred,labels=class_names)\n",
        "cnf_matrix"
      ],
      "execution_count": null,
      "outputs": [
        {
          "output_type": "execute_result",
          "data": {
            "text/plain": [
              "array([[   0,    0,    0,    0,    0,    0,    0,    0,    0,    0],\n",
              "       [   0,    0,    0,    0,    0,    0,   33,    0,   15,    6],\n",
              "       [   0,    0,    0,    0,    0,    0,    0,    0,  350,    0],\n",
              "       [   0,    0,    0, 1161,   33,    0,  187,    0,  588,  936],\n",
              "       [   0,    0,    0,   13,   26,    0,   22,    0,   34,  421],\n",
              "       [   0,    0,    0,   37,   29,   10,  231,    0,  780,  497],\n",
              "       [   0,    0,    0,   22,    0,    0, 2841,    0,   20, 1028],\n",
              "       [   0,    0,    0,   23,   34,    0,   59,    0,   66,  370],\n",
              "       [   0,    0,    0,  195,   27,    0, 1296,    0, 5236,  664],\n",
              "       [   0,    0,    0,   59,    0,    0,  146,    0,  802, 6510]])"
            ]
          },
          "metadata": {
            "tags": []
          },
          "execution_count": 94
        }
      ]
    },
    {
      "cell_type": "code",
      "metadata": {
        "colab": {
          "base_uri": "https://localhost:8080/",
          "height": 1000
        },
        "id": "Dq80rs2yRefT",
        "outputId": "da095c79-c5fa-452e-d84a-d398a75720b3"
      },
      "source": [
        "plt.figure(figsize = (12,9))\n",
        "plot_confusion_matrix(cnf_matrix, classes=class_names, normalize=True,title='Normalized confusion matrix')\n",
        "\n",
        "plt.show()\n",
        "\n"
      ],
      "execution_count": null,
      "outputs": [
        {
          "output_type": "stream",
          "text": [
            "/usr/local/lib/python3.7/dist-packages/ipykernel_launcher.py:14: RuntimeWarning: invalid value encountered in true_divide\n",
            "  \n"
          ],
          "name": "stderr"
        },
        {
          "output_type": "stream",
          "text": [
            "Normalized confusion matrix\n",
            "[[       nan        nan        nan        nan        nan        nan\n",
            "         nan        nan        nan        nan]\n",
            " [0.         0.         0.         0.         0.         0.\n",
            "  0.61111111 0.         0.27777778 0.11111111]\n",
            " [0.         0.         0.         0.         0.         0.\n",
            "  0.         0.         1.         0.        ]\n",
            " [0.         0.         0.         0.39965577 0.01135972 0.\n",
            "  0.06437177 0.         0.20240964 0.3222031 ]\n",
            " [0.         0.         0.         0.0251938  0.0503876  0.\n",
            "  0.04263566 0.         0.06589147 0.81589147]\n",
            " [0.         0.         0.         0.02335859 0.01830808 0.00631313\n",
            "  0.14583333 0.         0.49242424 0.31376263]\n",
            " [0.         0.         0.         0.00562516 0.         0.\n",
            "  0.72641268 0.         0.00511378 0.26284838]\n",
            " [0.         0.         0.         0.04166667 0.0615942  0.\n",
            "  0.10688406 0.         0.11956522 0.67028986]\n",
            " [0.         0.         0.         0.02628741 0.0036398  0.\n",
            "  0.17471016 0.         0.70585063 0.089512  ]\n",
            " [0.         0.         0.         0.00784888 0.         0.\n",
            "  0.01942264 0.         0.1066915  0.86603698]]\n"
          ],
          "name": "stdout"
        },
        {
          "output_type": "display_data",
          "data": {
            "image/png": "[encoded data removed]",
            "text/plain": [
              "<Figure size 864x648 with 2 Axes>"
            ]
          },
          "metadata": {
            "tags": [],
            "needs_background": "light"
          }
        }
      ]
    },
    {
      "cell_type": "code",
      "metadata": {
        "colab": {
          "base_uri": "https://localhost:8080/",
          "height": 930
        },
        "id": "HFnG3GyJRejZ",
        "outputId": "04ecad1d-5169-43e9-994f-1011a5a58c88"
      },
      "source": [
        "plt.figure(figsize = (15,10))\n",
        "plot_confusion_matrix(cnf_matrix, classes=class_names, normalize=None,title='Normalized confusion matrix')\n",
        "\n",
        "plt.show()\n",
        "\n"
      ],
      "execution_count": null,
      "outputs": [
        {
          "output_type": "stream",
          "text": [
            "Confusion matrix, without normalization\n",
            "[[   0    0    0    0    0    0    0    0    0    0]\n",
            " [   0    0    0    0    0    0   33    0   15    6]\n",
            " [   0    0    0    0    0    0    0    0  350    0]\n",
            " [   0    0    0 1161   33    0  187    0  588  936]\n",
            " [   0    0    0   13   26    0   22    0   34  421]\n",
            " [   0    0    0   37   29   10  231    0  780  497]\n",
            " [   0    0    0   22    0    0 2841    0   20 1028]\n",
            " [   0    0    0   23   34    0   59    0   66  370]\n",
            " [   0    0    0  195   27    0 1296    0 5236  664]\n",
            " [   0    0    0   59    0    0  146    0  802 6510]]\n"
          ],
          "name": "stdout"
        },
        {
          "output_type": "display_data",
          "data": {
            "image/png": "[encoded data removed]",
            "text/plain": [
              "<Figure size 1080x720 with 2 Axes>"
            ]
          },
          "metadata": {
            "tags": [],
            "needs_background": "light"
          }
        }
      ]
    },
    {
      "cell_type": "code",
      "metadata": {
        "id": "xRxVRthPRy-t"
      },
      "source": [
        ""
      ],
      "execution_count": null,
      "outputs": []
    },
    {
      "cell_type": "markdown",
      "metadata": {
        "id": "jh_rknsmTP7Z"
      },
      "source": [
        "# **Random Forest Classifier**"
      ]
    },
    {
      "cell_type": "code",
      "metadata": {
        "colab": {
          "base_uri": "https://localhost:8080/"
        },
        "id": "GHAa4HZZRzC9",
        "outputId": "486deb1e-af47-4ab3-abf1-851900c87403"
      },
      "source": [
        "from pyspark.ml.classification import RandomForestClassifier\n",
        "\n",
        "rf = RandomForestClassifier(labelCol='indexedLabel', featuresCol='indexedFeatures')\n",
        "\n",
        "# Convert indexed labels back to original labels.\n",
        "labelConverter = IndexToString(inputCol=\"prediction\", outputCol=\"predictedLabel\",labels=labelIndexer.labels)\n",
        "\n",
        "# Chain indexers and tree in a Pipeline\n",
        "pipeline = Pipeline(stages=[labelIndexer, featureIndexer, dTree,labelConverter])\n",
        "\n",
        "# Train model.  This also runs the indexers.\n",
        "model = pipeline.fit(trainingData)\n",
        "\n",
        "# Make predictions.\n",
        "predictions = model.transform(testData)\n",
        "# Select example rows to display.\n",
        "predictions.select(\"features\",\"attack_cat\",\"predictedLabel\").show(5)\n"
      ],
      "execution_count": null,
      "outputs": [
        {
          "output_type": "stream",
          "text": [
            "+--------------------+------------+--------------+\n",
            "|            features|  attack_cat|predictedLabel|\n",
            "+--------------------+------------+--------------+\n",
            "|(23,[2,3,4,7,8,9,...|Not_Effected|  Not_Effected|\n",
            "|(23,[2,3,4,7,8,9,...|Not_Effected|  Not_Effected|\n",
            "|(23,[2,3,4,7,8,9,...|Not_Effected|  Not_Effected|\n",
            "|(23,[2,3,4,7,8,9,...|Not_Effected|  Not_Effected|\n",
            "|(23,[2,3,4,7,8,9,...|Not_Effected|  Not_Effected|\n",
            "+--------------------+------------+--------------+\n",
            "only showing top 5 rows\n",
            "\n"
          ],
          "name": "stdout"
        }
      ]
    },
    {
      "cell_type": "code",
      "metadata": {
        "colab": {
          "base_uri": "https://localhost:8080/"
        },
        "id": "H94maK_3RzGT",
        "outputId": "9f2dc41d-1c9c-40d1-cb15-6f3670c77781"
      },
      "source": [
        "from pyspark.ml.evaluation import MulticlassClassificationEvaluator\n",
        "\n",
        "evaluator = MulticlassClassificationEvaluator(labelCol=\"indexedLabel\", predictionCol=\"prediction\", metricName=\"accuracy\")\n",
        "RF_accuracy = evaluator.evaluate(predictions)\n",
        "print(\"Test Error = %g\" % (1.0 - RF_accuracy))\n",
        "print(\"Random Forest Classifier Model Accuracy =\", RF_accuracy)\n",
        "RFModel = model.stages[-2]\n",
        "# summary only\n",
        "print(RFModel)  "
      ],
      "execution_count": null,
      "outputs": [
        {
          "output_type": "stream",
          "text": [
            "Test Error = 0.0256735\n",
            "Random Forest Classifier Model Accuracy = 0.9743265311412519\n",
            "DecisionTreeClassificationModel: uid=DecisionTreeClassifier_19c3253891df, depth=5, numNodes=45, numClasses=10, numFeatures=23\n"
          ],
          "name": "stdout"
        }
      ]
    },
    {
      "cell_type": "code",
      "metadata": {
        "id": "Qjenh2-iVQYK"
      },
      "source": [
        ""
      ],
      "execution_count": null,
      "outputs": []
    },
    {
      "cell_type": "markdown",
      "metadata": {
        "id": "0TECpTvafN2r"
      },
      "source": [
        "# **All model Accuracy by using lazy predict** below are the screenshots of those respective"
      ]
    },
    {
      "cell_type": "markdown",
      "metadata": {
        "id": "5yQRA1PleqAi"
      },
      "source": [
        "![a.PNG](data:image/png;base64,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)"
      ]
    },
    {
      "cell_type": "code",
      "metadata": {
        "id": "S3kkH3Y-RzJP"
      },
      "source": [
        ""
      ],
      "execution_count": null,
      "outputs": []
    },
    {
      "cell_type": "markdown",
      "metadata": {
        "id": "lGWKdU3newWh"
      },
      "source": [
        "![b.PNG](data:image/png;base64,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)"
      ]
    },
    {
      "cell_type": "markdown",
      "metadata": {
        "id": "sdMjumPje1rp"
      },
      "source": [
        "![c.PNG](data:image/png;base64,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)"
      ]
    },
    {
      "cell_type": "markdown",
      "metadata": {
        "id": "mp5_ZJX7e6L4"
      },
      "source": [
        "![d.PNG](data:image/png;base64,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)"
      ]
    },
    {
      "cell_type": "markdown",
      "metadata": {
        "id": "IYVMoclje-iR"
      },
      "source": [
        "![e.PNG](data:image/png;base64,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)"
      ]
    },
    {
      "cell_type": "code",
      "metadata": {
        "id": "Vh27PztbRepV"
      },
      "source": [
        ""
      ],
      "execution_count": null,
      "outputs": []
    },
    {
      "cell_type": "markdown",
      "metadata": {
        "id": "d1RBq7nZfjz-"
      },
      "source": [
        ""
      ]
    }
  ]
}